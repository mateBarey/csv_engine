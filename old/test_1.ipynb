{
 "cells": [
  {
   "cell_type": "code",
   "execution_count": null,
   "id": "d0bc8000",
   "metadata": {},
   "outputs": [],
   "source": [
    "import csv\n",
    "import pandas as pd\n",
    "import polars as pl\n",
    "import os\n",
    "from pathlib import Path\n",
    "import sys\n",
    "sys.path.append('/home/matebarey/Downloads/repos/mozity')\n",
    "import re\n",
    "from itertools import islice, chain\n",
    "from src.csvengine import ParseCSV, SafeBinder\n",
    "from functools import reduce , wraps\n",
    "import unicodedata\n",
    "import io"
   ]
  },
  {
   "cell_type": "code",
   "execution_count": null,
   "id": "4f938556",
   "metadata": {},
   "outputs": [],
   "source": [
    "os.chdir('/home/matebarey/Downloads/repos/mozity')\n",
    "\n",
    "\n",
    "def load_csv(file_path: str):\n",
    "    raw = Path(file_path).read_bytes()\n",
    "\n",
    "    transform_map = {\n",
    "        b'\\r\\n': b'\\n',       # Windows line endings\n",
    "        b'\\r': b'\\n',         # Mac line endings\n",
    "        b'\\x00': b'',         # Null bytes\n",
    "        b'\\xef\\xbb\\xbf': b''  # BOM\n",
    "    }\n",
    "\n",
    "    cleaned = reduce(lambda acc, kv: acc.replace(*kv), transform_map.items(), raw)\n",
    "    text = cleaned.decode('utf-8', errors='ignore')\n",
    "    lines = text.splitlines()\n",
    "\n",
    "    skip = 1 if lines and lines[0].lower().startswith('sep=') else 0\n",
    "    sample = '\\n'.join(lines[skip:skip + 10])\n",
    "\n",
    "    header_guess = SafeBinder(sample).bind(lambda s: csv.Sniffer().has_header(s))() or False\n",
    "    header_opt = 0 if header_guess else None\n",
    "\n",
    "    df = pd.read_csv(io.StringIO(text), header=header_opt, skiprows=skip, on_bad_lines='skip')\n",
    "    return df, pl.from_pandas(df)\n",
    "\n"
   ]
  },
  {
   "cell_type": "code",
   "execution_count": 19,
   "id": "b8b2ef9e",
   "metadata": {},
   "outputs": [],
   "source": [
    "#load files\n",
    "files = [\"snippets.csv\",\"events.csv\",\"prompts.csv\"]\n",
    "cfs = [ParseCSV(i,has_headers=True) for i in files]\n",
    "df_dp = [load_csv(file) for file in files]"
   ]
  },
  {
   "cell_type": "code",
   "execution_count": null,
   "id": "e4adcac7",
   "metadata": {},
   "outputs": [],
   "source": [
    "# build cli search app.py  snippets.csv --q \"cafe\" --fields title, body --diacritics-off\n",
    "\n",
    "#reqs\n",
    "#1) case insensitive  normalize both query and field by removing accents\n",
    "#2) boolean mini dsl term , multi word , field: term , tag:resum, title:\"cafe review\", oparators and or unary neagtion"
   ]
  },
  {
   "cell_type": "code",
   "execution_count": null,
   "id": "5852a437",
   "metadata": {},
   "outputs": [],
   "source": []
  }
 ],
 "metadata": {
  "kernelspec": {
   "display_name": "Python 3 (ipykernel)",
   "language": "python",
   "name": "python3"
  }
 },
 "nbformat": 4,
 "nbformat_minor": 5
}
