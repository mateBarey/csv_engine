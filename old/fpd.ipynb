{
 "cells": [
  {
   "cell_type": "code",
   "execution_count": 3,
   "id": "3d68474e",
   "metadata": {},
   "outputs": [],
   "source": [
    "import csv\n",
    "import pandas as pd\n",
    "import polars as pl\n",
    "import re\n",
    "import io\n",
    "import os\n",
    "os.chdir('/home/matebarey/Downloads/repos/mozity')"
   ]
  },
  {
   "cell_type": "code",
   "execution_count": null,
   "id": "f3526b81",
   "metadata": {},
   "outputs": [],
   "source": [
    "trim = lambda s: s.strip()\n",
    "upper = lambda s: s.upper()\n",
    "exclaim = lambda s: s + \"!\"\n"
   ]
  },
  {
   "cell_type": "code",
   "execution_count": 10,
   "id": "0e8fcb73",
   "metadata": {},
   "outputs": [
    {
     "data": {
      "text/plain": [
       "'GET OFF MY LAWN!'"
      ]
     },
     "execution_count": 10,
     "metadata": {},
     "output_type": "execute_result"
    }
   ],
   "source": [
    "exclaim(upper(trim(\" get off my lawn\")))"
   ]
  },
  {
   "cell_type": "markdown",
   "id": "aacabbc4",
   "metadata": {},
   "source": [
    "### Function composition\n",
    "\n",
    "A composition of these functions is useful for combining the effects of these functions. Given two functions, $f$ and $g$,\n",
    "\n",
    "$$\n",
    "\\begin{align}\n",
    "f : A & \\rightarrow B \\\\\n",
    "g : B & \\rightarrow C \\\\\n",
    "\\end{align}\n",
    "$$\n",
    "\n",
    "the composition of $f$ and $g$ is defined as\n",
    "\n",
    "$$\n",
    "\\begin{align}\n",
    "g \\circ f: A & \\rightarrow C \\\\\n",
    "\\end{align}\n",
    "$$\n",
    "\n",
    "where\n",
    "\n",
    "$$\\text{compose(f, g)(x)} = (g\\circ f) (x) = g(f(x))$$"
   ]
  },
  {
   "cell_type": "code",
   "execution_count": 12,
   "id": "736ee769",
   "metadata": {},
   "outputs": [
    {
     "data": {
      "text/plain": [
       "'GET OFF MY LAWN!'"
      ]
     },
     "execution_count": 12,
     "metadata": {},
     "output_type": "execute_result"
    }
   ],
   "source": [
    "#function composition\n",
    "compose = lambda f, g: lambda x: g(f(x))\n",
    "\n",
    "enthuse = compose(compose(trim,upper),exclaim)\n",
    "enthuse(\" get off my lawn\")"
   ]
  },
  {
   "cell_type": "markdown",
   "id": "b4ea5298",
   "metadata": {},
   "source": [
    "Composition is associative. Given three functions\n",
    "\n",
    "$$\n",
    "\\begin{align}\n",
    "f : A & \\rightarrow B \\\\\n",
    "g : B & \\rightarrow C \\\\\n",
    "h : C & \\rightarrow D \\\\\n",
    "\\end{align}\n",
    "$$\n",
    "\n",
    "then \n",
    "\n",
    "$$h\\circ g\\circ f = (h\\circ g)\\circ f = h\\circ (g\\circ f)$$"
   ]
  },
  {
   "cell_type": "markdown",
   "id": "b7190b37",
   "metadata": {},
   "source": [
    "The functions `map`, `filter`, and `functools.reduce` extend the utility of pure functions. Note that `map` actually returns an iterator, so `list` is required to apply the function to every element of the data given in `map`."
   ]
  },
  {
   "cell_type": "code",
   "execution_count": 13,
   "id": "3be75478",
   "metadata": {},
   "outputs": [
    {
     "data": {
      "text/plain": [
       "['HELLO!', 'GO AWAY!', 'GET OFF MY LAWN!']"
      ]
     },
     "execution_count": 13,
     "metadata": {},
     "output_type": "execute_result"
    }
   ],
   "source": [
    "list(map(enthuse, [\"hello\", \"go away\", \" get off my lawn\"]))"
   ]
  },
  {
   "cell_type": "markdown",
   "id": "004e8339",
   "metadata": {},
   "source": [
    "`reduce` applies a function of two values recursively to a tuple, list, or iterator to reduce it to a single cumulative value. This provides a convenient means to construct of composition of two or more functions."
   ]
  },
  {
   "cell_type": "code",
   "execution_count": 14,
   "id": "0831654f",
   "metadata": {},
   "outputs": [
    {
     "data": {
      "text/plain": [
       "'GET OFF MY LAWN!'"
      ]
     },
     "execution_count": 14,
     "metadata": {},
     "output_type": "execute_result"
    }
   ],
   "source": [
    "from functools import reduce\n",
    "\n",
    "enthuse = reduce(compose, (trim, upper, exclaim))\n",
    "enthuse(\" get off my lawn\")"
   ]
  },
  {
   "cell_type": "markdown",
   "id": "505e66d4",
   "metadata": {},
   "source": [
    "This may not be a desirable result for a more complex workflow. This is where monads fit in.\n",
    "\n",
    "A monad wraps the inputs and outputs of a pure function into a structure that can perform additional computation. There two basic methods for monads:\n",
    "\n",
    "* **unit** which wraps a value into a monad.\n",
    "* **bind** which chains pure functions together."
   ]
  },
  {
   "cell_type": "markdown",
   "id": "f6260fbb",
   "metadata": {},
   "source": [
    "### The **Maybe** monad\n",
    "\n",
    " The following cell shows a Python implementation for a **Maybe** monad. The **Maybe** monad wraps a value the may contain a value. If the result of bind produces an error, the value stored is `None` and a flag is set."
   ]
  },
  {
   "cell_type": "code",
   "execution_count": null,
   "id": "cf6db5e7",
   "metadata": {},
   "outputs": [],
   "source": []
  },
  {
   "cell_type": "code",
   "execution_count": null,
   "id": "28aa54c2",
   "metadata": {},
   "outputs": [
    {
     "ename": "ComputeError",
     "evalue": "could not parse `\"\"Quoted line\"\", with \"\"quotes\"\".\",2025-05-22T09:09:09Z\n7,\"Polish diacritics\",\"i18n\",\"search\",\"Wyszukaj słowo „żółć” i jego warianty bez znaków diakrytycznych.\",2025-06-01T11:11:11Z\n` as dtype `str` at column 'id,title,category,tags,body,created_at' (column number 1)\n\nThe current offset in the file is 833 bytes.\n\nYou might want to try:\n- increasing `infer_schema_length` (e.g. `infer_schema_length=10000`),\n- specifying correct dtype with the `schema_overrides` argument\n- setting `ignore_errors` to `True`,\n- adding `\"\"Quoted line\"\", with \"\"quotes\"\".\",2025-05-22T09:09:09Z\n7,\"Polish diacritics\",\"i18n\",\"search\",\"Wyszukaj słowo „żółć” i jego warianty bez znaków diakrytycznych.\",2025-06-01T11:11:11Z\n` to the `null_values` list.\n\nOriginal error: ```invalid csv file\n\nField `\"\"Quoted line\"\", with \"\"quotes\"\".\",2025-05-22T09:09:09Z\n7,\"Polish diacritics\",\"i18n\",\"search\",\"Wyszukaj słowo „żółć” i jego warianty bez znaków diakrytycznych.\",2025-06-01T11:11:11Z\n` is not properly escaped.```",
     "output_type": "error",
     "traceback": [
      "\u001b[0;31m---------------------------------------------------------------------------\u001b[0m",
      "\u001b[0;31mComputeError\u001b[0m                              Traceback (most recent call last)",
      "Cell \u001b[0;32mIn[8], line 69\u001b[0m\n\u001b[1;32m     67\u001b[0m cleaned \u001b[38;5;241m=\u001b[39m csv_exam_1i[\u001b[38;5;124m'\u001b[39m\u001b[38;5;124mcleaned\u001b[39m\u001b[38;5;124m'\u001b[39m]\n\u001b[1;32m     68\u001b[0m delimiter \u001b[38;5;241m=\u001b[39m csv_exam_1i[\u001b[38;5;124m'\u001b[39m\u001b[38;5;124mdelimiter\u001b[39m\u001b[38;5;124m'\u001b[39m]\n\u001b[0;32m---> 69\u001b[0m df \u001b[38;5;241m=\u001b[39m \u001b[43mpl\u001b[49m\u001b[38;5;241;43m.\u001b[39;49m\u001b[43mread_csv\u001b[49m\u001b[43m(\u001b[49m\u001b[43mcleaned\u001b[49m\u001b[43m,\u001b[49m\u001b[43mseparator\u001b[49m\u001b[38;5;241;43m=\u001b[39;49m\u001b[43mdelimiter\u001b[49m\u001b[43m)\u001b[49m\n\u001b[1;32m     70\u001b[0m df\n",
      "File \u001b[0;32m~/miniconda3/envs/trading_env_f/lib/python3.10/site-packages/polars/_utils/deprecation.py:119\u001b[0m, in \u001b[0;36mdeprecate_renamed_parameter.<locals>.decorate.<locals>.wrapper\u001b[0;34m(*args, **kwargs)\u001b[0m\n\u001b[1;32m    114\u001b[0m \u001b[38;5;129m@wraps\u001b[39m(function)\n\u001b[1;32m    115\u001b[0m \u001b[38;5;28;01mdef\u001b[39;00m\u001b[38;5;250m \u001b[39m\u001b[38;5;21mwrapper\u001b[39m(\u001b[38;5;241m*\u001b[39margs: P\u001b[38;5;241m.\u001b[39margs, \u001b[38;5;241m*\u001b[39m\u001b[38;5;241m*\u001b[39mkwargs: P\u001b[38;5;241m.\u001b[39mkwargs) \u001b[38;5;241m-\u001b[39m\u001b[38;5;241m>\u001b[39m T:\n\u001b[1;32m    116\u001b[0m     _rename_keyword_argument(\n\u001b[1;32m    117\u001b[0m         old_name, new_name, kwargs, function\u001b[38;5;241m.\u001b[39m\u001b[38;5;18m__qualname__\u001b[39m, version\n\u001b[1;32m    118\u001b[0m     )\n\u001b[0;32m--> 119\u001b[0m     \u001b[38;5;28;01mreturn\u001b[39;00m \u001b[43mfunction\u001b[49m\u001b[43m(\u001b[49m\u001b[38;5;241;43m*\u001b[39;49m\u001b[43margs\u001b[49m\u001b[43m,\u001b[49m\u001b[43m \u001b[49m\u001b[38;5;241;43m*\u001b[39;49m\u001b[38;5;241;43m*\u001b[39;49m\u001b[43mkwargs\u001b[49m\u001b[43m)\u001b[49m\n",
      "File \u001b[0;32m~/miniconda3/envs/trading_env_f/lib/python3.10/site-packages/polars/_utils/deprecation.py:119\u001b[0m, in \u001b[0;36mdeprecate_renamed_parameter.<locals>.decorate.<locals>.wrapper\u001b[0;34m(*args, **kwargs)\u001b[0m\n\u001b[1;32m    114\u001b[0m \u001b[38;5;129m@wraps\u001b[39m(function)\n\u001b[1;32m    115\u001b[0m \u001b[38;5;28;01mdef\u001b[39;00m\u001b[38;5;250m \u001b[39m\u001b[38;5;21mwrapper\u001b[39m(\u001b[38;5;241m*\u001b[39margs: P\u001b[38;5;241m.\u001b[39margs, \u001b[38;5;241m*\u001b[39m\u001b[38;5;241m*\u001b[39mkwargs: P\u001b[38;5;241m.\u001b[39mkwargs) \u001b[38;5;241m-\u001b[39m\u001b[38;5;241m>\u001b[39m T:\n\u001b[1;32m    116\u001b[0m     _rename_keyword_argument(\n\u001b[1;32m    117\u001b[0m         old_name, new_name, kwargs, function\u001b[38;5;241m.\u001b[39m\u001b[38;5;18m__qualname__\u001b[39m, version\n\u001b[1;32m    118\u001b[0m     )\n\u001b[0;32m--> 119\u001b[0m     \u001b[38;5;28;01mreturn\u001b[39;00m \u001b[43mfunction\u001b[49m\u001b[43m(\u001b[49m\u001b[38;5;241;43m*\u001b[39;49m\u001b[43margs\u001b[49m\u001b[43m,\u001b[49m\u001b[43m \u001b[49m\u001b[38;5;241;43m*\u001b[39;49m\u001b[38;5;241;43m*\u001b[39;49m\u001b[43mkwargs\u001b[49m\u001b[43m)\u001b[49m\n",
      "File \u001b[0;32m~/miniconda3/envs/trading_env_f/lib/python3.10/site-packages/polars/_utils/deprecation.py:119\u001b[0m, in \u001b[0;36mdeprecate_renamed_parameter.<locals>.decorate.<locals>.wrapper\u001b[0;34m(*args, **kwargs)\u001b[0m\n\u001b[1;32m    114\u001b[0m \u001b[38;5;129m@wraps\u001b[39m(function)\n\u001b[1;32m    115\u001b[0m \u001b[38;5;28;01mdef\u001b[39;00m\u001b[38;5;250m \u001b[39m\u001b[38;5;21mwrapper\u001b[39m(\u001b[38;5;241m*\u001b[39margs: P\u001b[38;5;241m.\u001b[39margs, \u001b[38;5;241m*\u001b[39m\u001b[38;5;241m*\u001b[39mkwargs: P\u001b[38;5;241m.\u001b[39mkwargs) \u001b[38;5;241m-\u001b[39m\u001b[38;5;241m>\u001b[39m T:\n\u001b[1;32m    116\u001b[0m     _rename_keyword_argument(\n\u001b[1;32m    117\u001b[0m         old_name, new_name, kwargs, function\u001b[38;5;241m.\u001b[39m\u001b[38;5;18m__qualname__\u001b[39m, version\n\u001b[1;32m    118\u001b[0m     )\n\u001b[0;32m--> 119\u001b[0m     \u001b[38;5;28;01mreturn\u001b[39;00m \u001b[43mfunction\u001b[49m\u001b[43m(\u001b[49m\u001b[38;5;241;43m*\u001b[39;49m\u001b[43margs\u001b[49m\u001b[43m,\u001b[49m\u001b[43m \u001b[49m\u001b[38;5;241;43m*\u001b[39;49m\u001b[38;5;241;43m*\u001b[39;49m\u001b[43mkwargs\u001b[49m\u001b[43m)\u001b[49m\n",
      "File \u001b[0;32m~/miniconda3/envs/trading_env_f/lib/python3.10/site-packages/polars/io/csv/functions.py:539\u001b[0m, in \u001b[0;36mread_csv\u001b[0;34m(source, has_header, columns, new_columns, separator, comment_prefix, quote_char, skip_rows, skip_lines, schema, schema_overrides, null_values, missing_utf8_is_empty_string, ignore_errors, try_parse_dates, n_threads, infer_schema, infer_schema_length, batch_size, n_rows, encoding, low_memory, rechunk, use_pyarrow, storage_options, skip_rows_after_header, row_index_name, row_index_offset, sample_size, eol_char, raise_if_empty, truncate_ragged_lines, decimal_comma, glob)\u001b[0m\n\u001b[1;32m    531\u001b[0m \u001b[38;5;28;01melse\u001b[39;00m:\n\u001b[1;32m    532\u001b[0m     \u001b[38;5;28;01mwith\u001b[39;00m prepare_file_arg(\n\u001b[1;32m    533\u001b[0m         source,\n\u001b[1;32m    534\u001b[0m         encoding\u001b[38;5;241m=\u001b[39mencoding,\n\u001b[0;32m   (...)\u001b[0m\n\u001b[1;32m    537\u001b[0m         storage_options\u001b[38;5;241m=\u001b[39mstorage_options,\n\u001b[1;32m    538\u001b[0m     ) \u001b[38;5;28;01mas\u001b[39;00m data:\n\u001b[0;32m--> 539\u001b[0m         df \u001b[38;5;241m=\u001b[39m \u001b[43m_read_csv_impl\u001b[49m\u001b[43m(\u001b[49m\n\u001b[1;32m    540\u001b[0m \u001b[43m            \u001b[49m\u001b[43mdata\u001b[49m\u001b[43m,\u001b[49m\n\u001b[1;32m    541\u001b[0m \u001b[43m            \u001b[49m\u001b[43mhas_header\u001b[49m\u001b[38;5;241;43m=\u001b[39;49m\u001b[43mhas_header\u001b[49m\u001b[43m,\u001b[49m\n\u001b[1;32m    542\u001b[0m \u001b[43m            \u001b[49m\u001b[43mcolumns\u001b[49m\u001b[38;5;241;43m=\u001b[39;49m\u001b[43mcolumns\u001b[49m\u001b[43m \u001b[49m\u001b[38;5;28;43;01mif\u001b[39;49;00m\u001b[43m \u001b[49m\u001b[43mcolumns\u001b[49m\u001b[43m \u001b[49m\u001b[38;5;28;43;01melse\u001b[39;49;00m\u001b[43m \u001b[49m\u001b[43mprojection\u001b[49m\u001b[43m,\u001b[49m\n\u001b[1;32m    543\u001b[0m \u001b[43m            \u001b[49m\u001b[43mseparator\u001b[49m\u001b[38;5;241;43m=\u001b[39;49m\u001b[43mseparator\u001b[49m\u001b[43m,\u001b[49m\n\u001b[1;32m    544\u001b[0m \u001b[43m            \u001b[49m\u001b[43mcomment_prefix\u001b[49m\u001b[38;5;241;43m=\u001b[39;49m\u001b[43mcomment_prefix\u001b[49m\u001b[43m,\u001b[49m\n\u001b[1;32m    545\u001b[0m \u001b[43m            \u001b[49m\u001b[43mquote_char\u001b[49m\u001b[38;5;241;43m=\u001b[39;49m\u001b[43mquote_char\u001b[49m\u001b[43m,\u001b[49m\n\u001b[1;32m    546\u001b[0m \u001b[43m            \u001b[49m\u001b[43mskip_rows\u001b[49m\u001b[38;5;241;43m=\u001b[39;49m\u001b[43mskip_rows\u001b[49m\u001b[43m,\u001b[49m\n\u001b[1;32m    547\u001b[0m \u001b[43m            \u001b[49m\u001b[43mskip_lines\u001b[49m\u001b[38;5;241;43m=\u001b[39;49m\u001b[43mskip_lines\u001b[49m\u001b[43m,\u001b[49m\n\u001b[1;32m    548\u001b[0m \u001b[43m            \u001b[49m\u001b[43mschema_overrides\u001b[49m\u001b[38;5;241;43m=\u001b[39;49m\u001b[43mschema_overrides\u001b[49m\u001b[43m,\u001b[49m\n\u001b[1;32m    549\u001b[0m \u001b[43m            \u001b[49m\u001b[43mschema\u001b[49m\u001b[38;5;241;43m=\u001b[39;49m\u001b[43mschema\u001b[49m\u001b[43m,\u001b[49m\n\u001b[1;32m    550\u001b[0m \u001b[43m            \u001b[49m\u001b[43mnull_values\u001b[49m\u001b[38;5;241;43m=\u001b[39;49m\u001b[43mnull_values\u001b[49m\u001b[43m,\u001b[49m\n\u001b[1;32m    551\u001b[0m \u001b[43m            \u001b[49m\u001b[43mmissing_utf8_is_empty_string\u001b[49m\u001b[38;5;241;43m=\u001b[39;49m\u001b[43mmissing_utf8_is_empty_string\u001b[49m\u001b[43m,\u001b[49m\n\u001b[1;32m    552\u001b[0m \u001b[43m            \u001b[49m\u001b[43mignore_errors\u001b[49m\u001b[38;5;241;43m=\u001b[39;49m\u001b[43mignore_errors\u001b[49m\u001b[43m,\u001b[49m\n\u001b[1;32m    553\u001b[0m \u001b[43m            \u001b[49m\u001b[43mtry_parse_dates\u001b[49m\u001b[38;5;241;43m=\u001b[39;49m\u001b[43mtry_parse_dates\u001b[49m\u001b[43m,\u001b[49m\n\u001b[1;32m    554\u001b[0m \u001b[43m            \u001b[49m\u001b[43mn_threads\u001b[49m\u001b[38;5;241;43m=\u001b[39;49m\u001b[43mn_threads\u001b[49m\u001b[43m,\u001b[49m\n\u001b[1;32m    555\u001b[0m \u001b[43m            \u001b[49m\u001b[43minfer_schema_length\u001b[49m\u001b[38;5;241;43m=\u001b[39;49m\u001b[43minfer_schema_length\u001b[49m\u001b[43m,\u001b[49m\n\u001b[1;32m    556\u001b[0m \u001b[43m            \u001b[49m\u001b[43mbatch_size\u001b[49m\u001b[38;5;241;43m=\u001b[39;49m\u001b[43mbatch_size\u001b[49m\u001b[43m,\u001b[49m\n\u001b[1;32m    557\u001b[0m \u001b[43m            \u001b[49m\u001b[43mn_rows\u001b[49m\u001b[38;5;241;43m=\u001b[39;49m\u001b[43mn_rows\u001b[49m\u001b[43m,\u001b[49m\n\u001b[1;32m    558\u001b[0m \u001b[43m            \u001b[49m\u001b[43mencoding\u001b[49m\u001b[38;5;241;43m=\u001b[39;49m\u001b[43mencoding\u001b[49m\u001b[43m \u001b[49m\u001b[38;5;28;43;01mif\u001b[39;49;00m\u001b[43m \u001b[49m\u001b[43mencoding\u001b[49m\u001b[43m \u001b[49m\u001b[38;5;241;43m==\u001b[39;49m\u001b[43m \u001b[49m\u001b[38;5;124;43m\"\u001b[39;49m\u001b[38;5;124;43mutf8-lossy\u001b[39;49m\u001b[38;5;124;43m\"\u001b[39;49m\u001b[43m \u001b[49m\u001b[38;5;28;43;01melse\u001b[39;49;00m\u001b[43m \u001b[49m\u001b[38;5;124;43m\"\u001b[39;49m\u001b[38;5;124;43mutf8\u001b[39;49m\u001b[38;5;124;43m\"\u001b[39;49m\u001b[43m,\u001b[49m\n\u001b[1;32m    559\u001b[0m \u001b[43m            \u001b[49m\u001b[43mlow_memory\u001b[49m\u001b[38;5;241;43m=\u001b[39;49m\u001b[43mlow_memory\u001b[49m\u001b[43m,\u001b[49m\n\u001b[1;32m    560\u001b[0m \u001b[43m            \u001b[49m\u001b[43mrechunk\u001b[49m\u001b[38;5;241;43m=\u001b[39;49m\u001b[43mrechunk\u001b[49m\u001b[43m,\u001b[49m\n\u001b[1;32m    561\u001b[0m \u001b[43m            \u001b[49m\u001b[43mskip_rows_after_header\u001b[49m\u001b[38;5;241;43m=\u001b[39;49m\u001b[43mskip_rows_after_header\u001b[49m\u001b[43m,\u001b[49m\n\u001b[1;32m    562\u001b[0m \u001b[43m            \u001b[49m\u001b[43mrow_index_name\u001b[49m\u001b[38;5;241;43m=\u001b[39;49m\u001b[43mrow_index_name\u001b[49m\u001b[43m,\u001b[49m\n\u001b[1;32m    563\u001b[0m \u001b[43m            \u001b[49m\u001b[43mrow_index_offset\u001b[49m\u001b[38;5;241;43m=\u001b[39;49m\u001b[43mrow_index_offset\u001b[49m\u001b[43m,\u001b[49m\n\u001b[1;32m    564\u001b[0m \u001b[43m            \u001b[49m\u001b[43meol_char\u001b[49m\u001b[38;5;241;43m=\u001b[39;49m\u001b[43meol_char\u001b[49m\u001b[43m,\u001b[49m\n\u001b[1;32m    565\u001b[0m \u001b[43m            \u001b[49m\u001b[43mraise_if_empty\u001b[49m\u001b[38;5;241;43m=\u001b[39;49m\u001b[43mraise_if_empty\u001b[49m\u001b[43m,\u001b[49m\n\u001b[1;32m    566\u001b[0m \u001b[43m            \u001b[49m\u001b[43mtruncate_ragged_lines\u001b[49m\u001b[38;5;241;43m=\u001b[39;49m\u001b[43mtruncate_ragged_lines\u001b[49m\u001b[43m,\u001b[49m\n\u001b[1;32m    567\u001b[0m \u001b[43m            \u001b[49m\u001b[43mdecimal_comma\u001b[49m\u001b[38;5;241;43m=\u001b[39;49m\u001b[43mdecimal_comma\u001b[49m\u001b[43m,\u001b[49m\n\u001b[1;32m    568\u001b[0m \u001b[43m            \u001b[49m\u001b[43mglob\u001b[49m\u001b[38;5;241;43m=\u001b[39;49m\u001b[43mglob\u001b[49m\u001b[43m,\u001b[49m\n\u001b[1;32m    569\u001b[0m \u001b[43m        \u001b[49m\u001b[43m)\u001b[49m\n\u001b[1;32m    571\u001b[0m \u001b[38;5;28;01mif\u001b[39;00m new_columns:\n\u001b[1;32m    572\u001b[0m     \u001b[38;5;28;01mreturn\u001b[39;00m _update_columns(df, new_columns)\n",
      "File \u001b[0;32m~/miniconda3/envs/trading_env_f/lib/python3.10/site-packages/polars/io/csv/functions.py:687\u001b[0m, in \u001b[0;36m_read_csv_impl\u001b[0;34m(source, has_header, columns, separator, comment_prefix, quote_char, skip_rows, skip_lines, schema, schema_overrides, null_values, missing_utf8_is_empty_string, ignore_errors, try_parse_dates, n_threads, infer_schema_length, batch_size, n_rows, encoding, low_memory, rechunk, skip_rows_after_header, row_index_name, row_index_offset, sample_size, eol_char, raise_if_empty, truncate_ragged_lines, decimal_comma, glob)\u001b[0m\n\u001b[1;32m    683\u001b[0m         \u001b[38;5;28;01mraise\u001b[39;00m \u001b[38;5;167;01mValueError\u001b[39;00m(msg)\n\u001b[1;32m    685\u001b[0m projection, columns \u001b[38;5;241m=\u001b[39m parse_columns_arg(columns)\n\u001b[0;32m--> 687\u001b[0m pydf \u001b[38;5;241m=\u001b[39m \u001b[43mPyDataFrame\u001b[49m\u001b[38;5;241;43m.\u001b[39;49m\u001b[43mread_csv\u001b[49m\u001b[43m(\u001b[49m\n\u001b[1;32m    688\u001b[0m \u001b[43m    \u001b[49m\u001b[43msource\u001b[49m\u001b[43m,\u001b[49m\n\u001b[1;32m    689\u001b[0m \u001b[43m    \u001b[49m\u001b[43minfer_schema_length\u001b[49m\u001b[43m,\u001b[49m\n\u001b[1;32m    690\u001b[0m \u001b[43m    \u001b[49m\u001b[43mbatch_size\u001b[49m\u001b[43m,\u001b[49m\n\u001b[1;32m    691\u001b[0m \u001b[43m    \u001b[49m\u001b[43mhas_header\u001b[49m\u001b[43m,\u001b[49m\n\u001b[1;32m    692\u001b[0m \u001b[43m    \u001b[49m\u001b[43mignore_errors\u001b[49m\u001b[43m,\u001b[49m\n\u001b[1;32m    693\u001b[0m \u001b[43m    \u001b[49m\u001b[43mn_rows\u001b[49m\u001b[43m,\u001b[49m\n\u001b[1;32m    694\u001b[0m \u001b[43m    \u001b[49m\u001b[43mskip_rows\u001b[49m\u001b[43m,\u001b[49m\n\u001b[1;32m    695\u001b[0m \u001b[43m    \u001b[49m\u001b[43mskip_lines\u001b[49m\u001b[43m,\u001b[49m\n\u001b[1;32m    696\u001b[0m \u001b[43m    \u001b[49m\u001b[43mprojection\u001b[49m\u001b[43m,\u001b[49m\n\u001b[1;32m    697\u001b[0m \u001b[43m    \u001b[49m\u001b[43mseparator\u001b[49m\u001b[43m,\u001b[49m\n\u001b[1;32m    698\u001b[0m \u001b[43m    \u001b[49m\u001b[43mrechunk\u001b[49m\u001b[43m,\u001b[49m\n\u001b[1;32m    699\u001b[0m \u001b[43m    \u001b[49m\u001b[43mcolumns\u001b[49m\u001b[43m,\u001b[49m\n\u001b[1;32m    700\u001b[0m \u001b[43m    \u001b[49m\u001b[43mencoding\u001b[49m\u001b[43m,\u001b[49m\n\u001b[1;32m    701\u001b[0m \u001b[43m    \u001b[49m\u001b[43mn_threads\u001b[49m\u001b[43m,\u001b[49m\n\u001b[1;32m    702\u001b[0m \u001b[43m    \u001b[49m\u001b[43mpath\u001b[49m\u001b[43m,\u001b[49m\n\u001b[1;32m    703\u001b[0m \u001b[43m    \u001b[49m\u001b[43mdtype_list\u001b[49m\u001b[43m,\u001b[49m\n\u001b[1;32m    704\u001b[0m \u001b[43m    \u001b[49m\u001b[43mdtype_slice\u001b[49m\u001b[43m,\u001b[49m\n\u001b[1;32m    705\u001b[0m \u001b[43m    \u001b[49m\u001b[43mlow_memory\u001b[49m\u001b[43m,\u001b[49m\n\u001b[1;32m    706\u001b[0m \u001b[43m    \u001b[49m\u001b[43mcomment_prefix\u001b[49m\u001b[43m,\u001b[49m\n\u001b[1;32m    707\u001b[0m \u001b[43m    \u001b[49m\u001b[43mquote_char\u001b[49m\u001b[43m,\u001b[49m\n\u001b[1;32m    708\u001b[0m \u001b[43m    \u001b[49m\u001b[43mprocessed_null_values\u001b[49m\u001b[43m,\u001b[49m\n\u001b[1;32m    709\u001b[0m \u001b[43m    \u001b[49m\u001b[43mmissing_utf8_is_empty_string\u001b[49m\u001b[43m,\u001b[49m\n\u001b[1;32m    710\u001b[0m \u001b[43m    \u001b[49m\u001b[43mtry_parse_dates\u001b[49m\u001b[43m,\u001b[49m\n\u001b[1;32m    711\u001b[0m \u001b[43m    \u001b[49m\u001b[43mskip_rows_after_header\u001b[49m\u001b[43m,\u001b[49m\n\u001b[1;32m    712\u001b[0m \u001b[43m    \u001b[49m\u001b[43mparse_row_index_args\u001b[49m\u001b[43m(\u001b[49m\u001b[43mrow_index_name\u001b[49m\u001b[43m,\u001b[49m\u001b[43m \u001b[49m\u001b[43mrow_index_offset\u001b[49m\u001b[43m)\u001b[49m\u001b[43m,\u001b[49m\n\u001b[1;32m    713\u001b[0m \u001b[43m    \u001b[49m\u001b[43meol_char\u001b[49m\u001b[38;5;241;43m=\u001b[39;49m\u001b[43meol_char\u001b[49m\u001b[43m,\u001b[49m\n\u001b[1;32m    714\u001b[0m \u001b[43m    \u001b[49m\u001b[43mraise_if_empty\u001b[49m\u001b[38;5;241;43m=\u001b[39;49m\u001b[43mraise_if_empty\u001b[49m\u001b[43m,\u001b[49m\n\u001b[1;32m    715\u001b[0m \u001b[43m    \u001b[49m\u001b[43mtruncate_ragged_lines\u001b[49m\u001b[38;5;241;43m=\u001b[39;49m\u001b[43mtruncate_ragged_lines\u001b[49m\u001b[43m,\u001b[49m\n\u001b[1;32m    716\u001b[0m \u001b[43m    \u001b[49m\u001b[43mdecimal_comma\u001b[49m\u001b[38;5;241;43m=\u001b[39;49m\u001b[43mdecimal_comma\u001b[49m\u001b[43m,\u001b[49m\n\u001b[1;32m    717\u001b[0m \u001b[43m    \u001b[49m\u001b[43mschema\u001b[49m\u001b[38;5;241;43m=\u001b[39;49m\u001b[43mschema\u001b[49m\u001b[43m,\u001b[49m\n\u001b[1;32m    718\u001b[0m \u001b[43m\u001b[49m\u001b[43m)\u001b[49m\n\u001b[1;32m    719\u001b[0m \u001b[38;5;28;01mreturn\u001b[39;00m wrap_df(pydf)\n",
      "\u001b[0;31mComputeError\u001b[0m: could not parse `\"\"Quoted line\"\", with \"\"quotes\"\".\",2025-05-22T09:09:09Z\n7,\"Polish diacritics\",\"i18n\",\"search\",\"Wyszukaj słowo „żółć” i jego warianty bez znaków diakrytycznych.\",2025-06-01T11:11:11Z\n` as dtype `str` at column 'id,title,category,tags,body,created_at' (column number 1)\n\nThe current offset in the file is 833 bytes.\n\nYou might want to try:\n- increasing `infer_schema_length` (e.g. `infer_schema_length=10000`),\n- specifying correct dtype with the `schema_overrides` argument\n- setting `ignore_errors` to `True`,\n- adding `\"\"Quoted line\"\", with \"\"quotes\"\".\",2025-05-22T09:09:09Z\n7,\"Polish diacritics\",\"i18n\",\"search\",\"Wyszukaj słowo „żółć” i jego warianty bez znaków diakrytycznych.\",2025-06-01T11:11:11Z\n` to the `null_values` list.\n\nOriginal error: ```invalid csv file\n\nField `\"\"Quoted line\"\", with \"\"quotes\"\".\",2025-05-22T09:09:09Z\n7,\"Polish diacritics\",\"i18n\",\"search\",\"Wyszukaj słowo „żółć” i jego warianty bez znaków diakrytycznych.\",2025-06-01T11:11:11Z\n` is not properly escaped.```"
     ]
    }
   ],
   "source": [
    "# phase 1 load and understand\n",
    "\n",
    "#1) detact and strip byte order Mark\n",
    "#special unicode char\n",
    "#2) parse using csv\n",
    "#quotechar='\"\"\n",
    "import re\n",
    "from pathlib import Path\n",
    "from functools import reduce\n",
    "\n",
    "'''\n",
    "old school notes\n",
    "sais cleanup\n",
    "def clean_data(obj):\n",
    "    return ((re.sub(r'\\W+', ' ', obj)).lower()).strip()\n",
    "\n",
    "\n",
    "\n",
    "#georges name cleanup for parsing was\n",
    "    def str_enc_correct(input_str):\n",
    "        input_str = input_str.replace(u'\\u201c', '\"').replace(u'\\u201d', '\"').replace(u'\\xa0', u' ')\n",
    "\n",
    "        string_encode = input_str.encode('ascii','ignore')\n",
    "        string_decode = string_encode.decode('ascii')\n",
    "        #str_f = re.sub('[^a-zA-Z0-9-_*.&\\/()\\\\~,;$#\\\"]', ' ', string_decode)\n",
    "\n",
    "        #`, !, @,^ ,  [, ], {, },  <, >, ?\n",
    "        str_f = re.sub('[^a-zA-Z0-9-_*.&\\/()\\\\~,;$#\\\":\\-+%=`!@\\^\\[\\]\\{\\}\\<\\>\\?]', ' ', string_decode)\n",
    "\n",
    "        return str_f\n",
    "'''\n",
    "\n",
    "def csv_info(path, has_header=True):\n",
    "    \"\"\"\n",
    "    Analyze and clean CSV bytes for any parser.\n",
    "    \"\"\"\n",
    "    b = Path(path).read_bytes()\n",
    "\n",
    "    # Helper lambdas\n",
    "    count_pattern = lambda p, data: len(re.findall(p, data))\n",
    "    is_regex = lambda p: isinstance(p, bytes) and (b'(?!' in p or b'(?<!' in p or b'^' in p)\n",
    "    apply_fix = lambda data, fix: re.sub(fix[0], fix[1], data) if is_regex(fix[0]) else data.replace(fix[0], fix[1])\n",
    "\n",
    "    # What to count\n",
    "    patterns = {\n",
    "        'crlf': b'\\r\\n',\n",
    "        'lf': rb'(?<!\\r)\\n',\n",
    "        'cr': rb'\\r(?!\\n)',\n",
    "        'bom_start': rb'^\\xef\\xbb\\xbf',\n",
    "        'bom_interior': rb'(?<!^)\\xef\\xbb\\xbf',\n",
    "        'null': b'\\x00',\n",
    "        'sep_header': rb'(?i)^sep=.*?\\n',\n",
    "        'comma': b',',\n",
    "        'tab': b'\\t',\n",
    "        'semicolon': b';',\n",
    "        'pipe': b'|'\n",
    "    }\n",
    "\n",
    "    # Count everything\n",
    "    counts = {k: count_pattern(p, b) for k, p in patterns.items()}\n",
    "\n",
    "        # How to fix issues\n",
    "    fixes = {\n",
    "        'crlf': (b'\\r\\n', b'\\n'),\n",
    "        'cr': (rb'\\r(?!\\n)', b'\\n'),\n",
    "        'bom_start': (rb'^\\xef\\xbb\\xbf', b''),\n",
    "        'bom_interior': (b'\\xef\\xbb\\xbf', b''),\n",
    "        'null': (b'\\x00', b''),\n",
    "        'sep_header': (rb'(?i)^sep=.*?\\n', b''),\n",
    "\n",
    "        # Quote normalization - convert all quote variants to standard quotes\n",
    "        'curly_quotes_open': (b'\\xe2\\x80\\x9c', b'\"'),      # \" (left double quotation mark)\n",
    "        'curly_quotes_close': (b'\\xe2\\x80\\x9d', b'\"'),     # \" (right double quotation mark)\n",
    "        'curly_single_open': (b'\\xe2\\x80\\x98', b\"'\"),      # ' (left single quotation mark)\n",
    "        'curly_single_close': (b'\\xe2\\x80\\x99', b\"'\"),     # ' (right single quotation mark)\n",
    "        'grave_accent': (b'\\x60', b\"'\"),                   # ` (grave accent used as quote)\n",
    "        'acute_accent': (b'\\xc2\\xb4', b\"'\"),               # ´ (acute accent used as quote)\n",
    "\n",
    "        # After normalizing, fix unescaped quotes\n",
    "        'unescaped_quotes': (rb'(?<!^)(?<!,)\"(?!,)(?!$)(?!\")', b'\"\"')\n",
    "    }\n",
    "\n",
    "    # Apply only needed fixes\n",
    "    needed_fixes = [(p, r) for k, (p, r) in fixes.items() if counts[k] > 0]\n",
    "    cleaned = reduce(apply_fix, needed_fixes, b)\n",
    "\n",
    "    # Find delimiter\n",
    "    delim_map = {'comma': ',', 'tab': '\\t', 'semicolon': ';', 'pipe': '|'}\n",
    "    delimiter = max(delim_map, key=lambda k: counts[k])\n",
    "\n",
    "    return {\n",
    "        'cleaned': cleaned,\n",
    "        'delimiter': delim_map[delimiter],\n",
    "        'issues': [k for k, v in counts.items() if v > 0 and k in fixes],\n",
    "        'has_header': has_header\n",
    "    }\n",
    "csv_exam_1 = 'snippets.csv'\n",
    "csv_exam_1i = csv_info(csv_exam_1)\n",
    "cleaned = csv_exam_1i['cleaned']\n",
    "delimiter = csv_exam_1i['delimiter']\n",
    "df = pl.read_csv(cleaned,separator=delimiter)\n",
    "df"
   ]
  },
  {
   "cell_type": "markdown",
   "id": "8e4c6d71",
   "metadata": {},
   "source": []
  },
  {
   "cell_type": "code",
   "execution_count": null,
   "id": "795e71fe",
   "metadata": {},
   "outputs": [],
   "source": []
  }
 ],
 "metadata": {
  "kernelspec": {
   "display_name": "Python 3 (ipykernel)",
   "language": "python",
   "name": "python3"
  }
 },
 "nbformat": 4,
 "nbformat_minor": 5
}
