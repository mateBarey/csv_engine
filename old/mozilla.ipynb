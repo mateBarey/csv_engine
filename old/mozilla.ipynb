{
 "cells": [
  {
   "cell_type": "code",
   "execution_count": 8,
   "id": "2b998136",
   "metadata": {},
   "outputs": [],
   "source": [
    "%matplotlib inline"
   ]
  },
  {
   "cell_type": "markdown",
   "id": "da878784",
   "metadata": {},
   "source": [
    "\n",
    "    Football: The football.csv file contains the results from the English Premier League. The columns labeled ‘Goals’ and ‘Goals Allowed’ contain the total number of goals scored for and against each team in that season (so Arsenal scored 79 goals against opponents, and had 36 goals scored against them). Write a program to read the file, then print the name of the team with the smallest difference in ‘for’ and ‘against’ goals.\n",
    "    Weather: In weather.csv you’ll find daily weather data. Write a program to read the file, then output the day number (column one) with the smallest temperature spread (the maximum temperature is the second column, the minimum the third column).\n",
    "    See if you can write the same program to solve both questions.\n"
   ]
  },
  {
   "cell_type": "markdown",
   "id": "9a1d0479",
   "metadata": {},
   "source": []
  },
  {
   "cell_type": "code",
   "execution_count": null,
   "id": "2d478606",
   "metadata": {},
   "outputs": [
    {
     "name": "stdout",
     "output_type": "stream",
     "text": [
      "{'CRLF': 0, 'LF_pure': 0, 'CR_pure': 20, 'cr_only_or_mixed': True, 'excel_sep': False, 'nul': False, 'bom_interior': False, 'guess_delim': ','}\n"
     ]
    },
    {
     "data": {
      "text/html": [
       "<div><style>\n",
       ".dataframe > thead > tr,\n",
       ".dataframe > tbody > tr {\n",
       "  text-align: right;\n",
       "  white-space: pre-wrap;\n",
       "}\n",
       "</style>\n",
       "<small>shape: (20, 8)</small><table border=\"1\" class=\"dataframe\"><thead><tr><th>Team</th><th>Games</th><th>Wins</th><th>Losses</th><th>Draws</th><th>Goals</th><th>Goals Allowed</th><th>Points</th></tr><tr><td>str</td><td>i64</td><td>i64</td><td>i64</td><td>i64</td><td>i64</td><td>i64</td><td>i64</td></tr></thead><tbody><tr><td>&quot;Arsenal&quot;</td><td>38</td><td>26</td><td>9</td><td>3</td><td>79</td><td>36</td><td>87</td></tr><tr><td>&quot;Liverpool&quot;</td><td>38</td><td>24</td><td>8</td><td>6</td><td>67</td><td>30</td><td>80</td></tr><tr><td>&quot;Manchester United&quot;</td><td>38</td><td>24</td><td>5</td><td>9</td><td>87</td><td>45</td><td>77</td></tr><tr><td>&quot;Newcastle&quot;</td><td>38</td><td>21</td><td>8</td><td>9</td><td>74</td><td>52</td><td>71</td></tr><tr><td>&quot;Leeds&quot;</td><td>38</td><td>18</td><td>12</td><td>8</td><td>53</td><td>37</td><td>66</td></tr><tr><td>&hellip;</td><td>&hellip;</td><td>&hellip;</td><td>&hellip;</td><td>&hellip;</td><td>&hellip;</td><td>&hellip;</td><td>&hellip;</td></tr><tr><td>&quot;Bolton&quot;</td><td>38</td><td>9</td><td>13</td><td>16</td><td>44</td><td>62</td><td>40</td></tr><tr><td>&quot;Sunderland&quot;</td><td>38</td><td>10</td><td>10</td><td>18</td><td>29</td><td>51</td><td>40</td></tr><tr><td>&quot;Ipswich&quot;</td><td>38</td><td>9</td><td>9</td><td>20</td><td>41</td><td>64</td><td>36</td></tr><tr><td>&quot;Derby&quot;</td><td>38</td><td>8</td><td>6</td><td>24</td><td>33</td><td>63</td><td>30</td></tr><tr><td>&quot;Leicester&quot;</td><td>38</td><td>5</td><td>13</td><td>20</td><td>30</td><td>64</td><td>28</td></tr></tbody></table></div>"
      ],
      "text/plain": [
       "shape: (20, 8)\n",
       "┌───────────────────┬───────┬──────┬────────┬───────┬───────┬───────────────┬────────┐\n",
       "│ Team              ┆ Games ┆ Wins ┆ Losses ┆ Draws ┆ Goals ┆ Goals Allowed ┆ Points │\n",
       "│ ---               ┆ ---   ┆ ---  ┆ ---    ┆ ---   ┆ ---   ┆ ---           ┆ ---    │\n",
       "│ str               ┆ i64   ┆ i64  ┆ i64    ┆ i64   ┆ i64   ┆ i64           ┆ i64    │\n",
       "╞═══════════════════╪═══════╪══════╪════════╪═══════╪═══════╪═══════════════╪════════╡\n",
       "│ Arsenal           ┆ 38    ┆ 26   ┆ 9      ┆ 3     ┆ 79    ┆ 36            ┆ 87     │\n",
       "│ Liverpool         ┆ 38    ┆ 24   ┆ 8      ┆ 6     ┆ 67    ┆ 30            ┆ 80     │\n",
       "│ Manchester United ┆ 38    ┆ 24   ┆ 5      ┆ 9     ┆ 87    ┆ 45            ┆ 77     │\n",
       "│ Newcastle         ┆ 38    ┆ 21   ┆ 8      ┆ 9     ┆ 74    ┆ 52            ┆ 71     │\n",
       "│ Leeds             ┆ 38    ┆ 18   ┆ 12     ┆ 8     ┆ 53    ┆ 37            ┆ 66     │\n",
       "│ …                 ┆ …     ┆ …    ┆ …      ┆ …     ┆ …     ┆ …             ┆ …      │\n",
       "│ Bolton            ┆ 38    ┆ 9    ┆ 13     ┆ 16    ┆ 44    ┆ 62            ┆ 40     │\n",
       "│ Sunderland        ┆ 38    ┆ 10   ┆ 10     ┆ 18    ┆ 29    ┆ 51            ┆ 40     │\n",
       "│ Ipswich           ┆ 38    ┆ 9    ┆ 9      ┆ 20    ┆ 41    ┆ 64            ┆ 36     │\n",
       "│ Derby             ┆ 38    ┆ 8    ┆ 6      ┆ 24    ┆ 33    ┆ 63            ┆ 30     │\n",
       "│ Leicester         ┆ 38    ┆ 5    ┆ 13     ┆ 20    ┆ 30    ┆ 64            ┆ 28     │\n",
       "└───────────────────┴───────┴──────┴────────┴───────┴───────┴───────────────┴────────┘"
      ]
     },
     "execution_count": 61,
     "metadata": {},
     "output_type": "execute_result"
    }
   ],
   "source": [
    "import pandas as pd\n",
    "import matplotlib as plt\n",
    "import csv\n",
    "import polars as pl\n",
    "from pathlib import Path\n",
    "import re\n",
    "import io\n",
    "import os\n",
    "os.chdir('/home/matebarey/Downloads/repos/mozity')\n",
    "\n",
    "def csv_quick_scan(b: bytes): # cr and lf are control chars  coded 0x0D  (13 decimals) and 0x0A (10 decial) used to mark line break\n",
    "    crlf = b.count(b\"\\r\\n\"); lf = b.count(b\"\\n\") - crlf; cr = b.count(b\"\\r\") - crlf\n",
    "    first = b.splitlines()[:1]\n",
    "    # interior BOM (ignore BOM at very start)\n",
    "    start = 3 if b.startswith(b\"\\xef\\xbb\\xbf\") else 0\n",
    "    return {\n",
    "        \"CRLF\": crlf, \"LF_pure\": lf, \"CR_pure\": cr,\n",
    "        \"cr_only_or_mixed\": (cr > 0 and lf == 0 and crlf == 0) or (b.find(b\"\\r\") != -1 and crlf == 0),\n",
    "        \"excel_sep\": bool(first and first[0].lower().startswith(b\"sep=\")),\n",
    "        \"nul\": (b\"\\x00\" in b),\n",
    "        \"bom_interior\": (b.find(b\"\\xef\\xbb\\xbf\", start) != -1),\n",
    "        \"guess_delim\": max([b\",\", b\";\", b\"\\t\", b\"|\", b\":\"], key=b.count).decode(),\n",
    "    }\n",
    "\n",
    "\n",
    "def load_csv_polars_quick(path, has_header=True):\n",
    "\n",
    "    b = Path(path).read_bytes()\n",
    "    s = csv_quick_scan(b)\n",
    "    print(s)  # one-liner stats/flags BEFORE any fixes\n",
    "\n",
    "    # tiny transform map\n",
    "    transforms = {\n",
    "        \"cr_only_or_mixed\": lambda x: x.replace(b\"\\r\\n\", b\"\\n\").replace(b\"\\r\", b\"\\n\"),\n",
    "        \"bom_interior\":     lambda x: x.replace(b\"\\xef\\xbb\\xbf\", b\"\"),\n",
    "        \"nul\":              lambda x: x.replace(b\"\\x00\", b\"\"),\n",
    "    }\n",
    "    raw = b\n",
    "    for k, fn in transforms.items():\n",
    "        if s[k]: raw = fn(raw)\n",
    "\n",
    "    opts = {\"has_header\": has_header, \"separator\": s[\"guess_delim\"]}\n",
    "    if s[\"excel_sep\"]: opts[\"skip_rows\"] = 1\n",
    "\n",
    "    return pl.read_csv(io.BytesIO(raw), **opts)\n",
    "\n",
    "df = pd.read_csv('football.csv',sep=',')\n",
    "\n",
    "\n",
    "# dfp = pl.read_csv('football.csv',\n",
    "#                   separator=',',\n",
    "#                   has_header=True,\n",
    "#                   eol_char='\\r')  # Mac line ending\n",
    "dfp = load_csv_polars_quick('football.csv')\n",
    "dfp"
   ]
  },
  {
   "cell_type": "code",
   "execution_count": null,
   "id": "66330c19",
   "metadata": {},
   "outputs": [
    {
     "data": {
      "text/plain": [
       "'Leicester'"
      ]
     },
     "execution_count": 79,
     "metadata": {},
     "output_type": "execute_result"
    }
   ],
   "source": [
    "df['Net_Goals'] = df['Goals'] - df['Goals Allowed']\n",
    "#find minimum value of 'Net Goals'\n",
    "df.min()['Net_Goals']\n",
    "#use conditional indexing to find\n",
    "#the row with the minimum value\n",
    "#and then output the 'Team' column value\n",
    "df[df['Net_Goals'] == int(df.min()['Net_Goals'])].iloc[0]['Team']\n",
    "#pandsas\n",
    "\n",
    "\n",
    "#csv\n",
    "\n",
    "import csv\n",
    "\n",
    "def parse_next_line(csv_file):\n",
    "    for line in csv.DictReader(csv_file):\n",
    "        yield line"
   ]
  },
  {
   "cell_type": "code",
   "execution_count": null,
   "id": "7a5561b9",
   "metadata": {},
   "outputs": [
    {
     "name": "stdout",
     "output_type": "stream",
     "text": [
      "min_goals: shape: (1, 1)\n",
      "┌───────────┐\n",
      "│ Net_Goals │\n",
      "│ ---       │\n",
      "│ i64       │\n",
      "╞═══════════╡\n",
      "│ -34       │\n",
      "└───────────┘\n",
      "min_goals_team: shape: (1, 1)\n",
      "┌───────────┐\n",
      "│ Team      │\n",
      "│ ---       │\n",
      "│ str       │\n",
      "╞═══════════╡\n",
      "│ Leicester │\n",
      "└───────────┘\n"
     ]
    }
   ],
   "source": [
    "# 2) compute Net_Goals without touching Goals\n",
    "from polars import col as c\n",
    "\n",
    "dfp = dfp.with_columns(\n",
    "    Net_Goals = pl.col(\"Goals\") - pl.col(\"Goals Allowed\")\n",
    ")\n",
    "\n",
    "min_goals_condn = c.Net_Goals == c.Net_Goals.min()\n",
    "min_goals = dfp.filter(min_goals_condn).select(c.Net_Goals)\n",
    "min_goals_team = dfp.filter(min_goals_condn).select(c.Team)\n",
    "\n",
    "print(f'min_goals: {min_goals}')\n",
    "print(f'min_goals_team: {min_goals_team}')\n",
    "\n"
   ]
  },
  {
   "cell_type": "markdown",
   "id": "5b986dff",
   "metadata": {},
   "source": [
    "1+99"
   ]
  },
  {
   "cell_type": "markdown",
   "id": "3718ee3d",
   "metadata": {},
   "source": [
    "\n",
    "2. Moving onto weather data\n"
   ]
  },
  {
   "cell_type": "code",
   "execution_count": 82,
   "id": "0d1cc4ac",
   "metadata": {},
   "outputs": [
    {
     "name": "stdout",
     "output_type": "stream",
     "text": [
      "{'CRLF': 0, 'LF_pure': 0, 'CR_pure': 30, 'cr_only_or_mixed': True, 'excel_sep': False, 'nul': False, 'bom_interior': False, 'guess_delim': ','}\n"
     ]
    },
    {
     "data": {
      "text/plain": [
       "Day             int64\n",
       "MxT             int64\n",
       "MnT             int64\n",
       "AvT             int64\n",
       "AvDP          float64\n",
       "1HrP TPcpn      int64\n",
       "PDir            int64\n",
       "AvSp          float64\n",
       "Dir             int64\n",
       "MxS             int64\n",
       "SkyC          float64\n",
       "MxR             int64\n",
       "Mn              int64\n",
       "R AvSLP       float64\n",
       "dtype: object"
      ]
     },
     "execution_count": 82,
     "metadata": {},
     "output_type": "execute_result"
    }
   ],
   "source": [
    "df = pd.read_csv('weather.csv', sep=',')\n",
    "df_p = load_csv_polars_quick('weather.csv')\n",
    "df.dtypes"
   ]
  },
  {
   "cell_type": "code",
   "execution_count": null,
   "id": "968e47c3",
   "metadata": {},
   "outputs": [
    {
     "data": {
      "text/plain": [
       "np.float64(24.0)"
      ]
     },
     "execution_count": 83,
     "metadata": {},
     "output_type": "execute_result"
    }
   ],
   "source": [
    "\n",
    "df['avghl'] = df.apply(lambda row: (row.MxT + row.MnT)/2,axis=1)\n",
    "df[df['avghl'] == (df.max()['avghl'])].iloc[0]['Day']"
   ]
  },
  {
   "cell_type": "code",
   "execution_count": 85,
   "id": "a9a85be8",
   "metadata": {},
   "outputs": [
    {
     "data": {
      "text/html": [
       "<div><style>\n",
       ".dataframe > thead > tr,\n",
       ".dataframe > tbody > tr {\n",
       "  text-align: right;\n",
       "  white-space: pre-wrap;\n",
       "}\n",
       "</style>\n",
       "<small>shape: (30, 15)</small><table border=\"1\" class=\"dataframe\"><thead><tr><th>Day</th><th>MxT</th><th>MnT</th><th>AvT</th><th>AvDP</th><th>1HrP TPcpn</th><th>PDir</th><th>AvSp</th><th>Dir</th><th>MxS</th><th>SkyC</th><th>MxR</th><th>Mn</th><th>R AvSLP</th><th>avghl</th></tr><tr><td>i64</td><td>i64</td><td>i64</td><td>i64</td><td>f64</td><td>i64</td><td>i64</td><td>f64</td><td>i64</td><td>i64</td><td>f64</td><td>i64</td><td>i64</td><td>f64</td><td>f64</td></tr></thead><tbody><tr><td>1</td><td>88</td><td>59</td><td>74</td><td>53.8</td><td>0</td><td>280</td><td>9.6</td><td>270</td><td>17</td><td>1.6</td><td>93</td><td>23</td><td>1004.5</td><td>73.5</td></tr><tr><td>2</td><td>79</td><td>63</td><td>71</td><td>46.5</td><td>0</td><td>330</td><td>8.7</td><td>340</td><td>23</td><td>3.3</td><td>70</td><td>28</td><td>1004.5</td><td>71.0</td></tr><tr><td>3</td><td>77</td><td>55</td><td>66</td><td>39.6</td><td>0</td><td>350</td><td>5.0</td><td>350</td><td>9</td><td>2.8</td><td>59</td><td>24</td><td>1016.8</td><td>66.0</td></tr><tr><td>4</td><td>77</td><td>59</td><td>68</td><td>51.1</td><td>0</td><td>110</td><td>9.1</td><td>130</td><td>12</td><td>8.6</td><td>62</td><td>40</td><td>1021.1</td><td>68.0</td></tr><tr><td>5</td><td>90</td><td>66</td><td>78</td><td>68.3</td><td>0</td><td>220</td><td>8.3</td><td>260</td><td>12</td><td>6.9</td><td>84</td><td>55</td><td>1014.4</td><td>78.0</td></tr><tr><td>&hellip;</td><td>&hellip;</td><td>&hellip;</td><td>&hellip;</td><td>&hellip;</td><td>&hellip;</td><td>&hellip;</td><td>&hellip;</td><td>&hellip;</td><td>&hellip;</td><td>&hellip;</td><td>&hellip;</td><td>&hellip;</td><td>&hellip;</td><td>&hellip;</td></tr><tr><td>26</td><td>97</td><td>64</td><td>81</td><td>70.4</td><td>0</td><td>50</td><td>5.1</td><td>200</td><td>12</td><td>4.0</td><td>107</td><td>45</td><td>1014.9</td><td>80.5</td></tr><tr><td>27</td><td>91</td><td>72</td><td>82</td><td>69.7</td><td>0</td><td>250</td><td>12.1</td><td>230</td><td>17</td><td>7.1</td><td>90</td><td>47</td><td>1009.0</td><td>81.5</td></tr><tr><td>28</td><td>84</td><td>68</td><td>76</td><td>65.6</td><td>0</td><td>280</td><td>7.6</td><td>340</td><td>16</td><td>7.0</td><td>100</td><td>51</td><td>1011.0</td><td>76.0</td></tr><tr><td>29</td><td>88</td><td>66</td><td>77</td><td>59.7</td><td>0</td><td>40</td><td>5.4</td><td>20</td><td>9</td><td>5.3</td><td>84</td><td>33</td><td>1020.6</td><td>77.0</td></tr><tr><td>30</td><td>90</td><td>45</td><td>68</td><td>63.6</td><td>0</td><td>240</td><td>6.0</td><td>220</td><td>17</td><td>4.8</td><td>200</td><td>41</td><td>1022.7</td><td>67.5</td></tr></tbody></table></div>"
      ],
      "text/plain": [
       "shape: (30, 15)\n",
       "┌─────┬─────┬─────┬─────┬───┬─────┬─────┬─────────┬───────┐\n",
       "│ Day ┆ MxT ┆ MnT ┆ AvT ┆ … ┆ MxR ┆ Mn  ┆ R AvSLP ┆ avghl │\n",
       "│ --- ┆ --- ┆ --- ┆ --- ┆   ┆ --- ┆ --- ┆ ---     ┆ ---   │\n",
       "│ i64 ┆ i64 ┆ i64 ┆ i64 ┆   ┆ i64 ┆ i64 ┆ f64     ┆ f64   │\n",
       "╞═════╪═════╪═════╪═════╪═══╪═════╪═════╪═════════╪═══════╡\n",
       "│ 1   ┆ 88  ┆ 59  ┆ 74  ┆ … ┆ 93  ┆ 23  ┆ 1004.5  ┆ 73.5  │\n",
       "│ 2   ┆ 79  ┆ 63  ┆ 71  ┆ … ┆ 70  ┆ 28  ┆ 1004.5  ┆ 71.0  │\n",
       "│ 3   ┆ 77  ┆ 55  ┆ 66  ┆ … ┆ 59  ┆ 24  ┆ 1016.8  ┆ 66.0  │\n",
       "│ 4   ┆ 77  ┆ 59  ┆ 68  ┆ … ┆ 62  ┆ 40  ┆ 1021.1  ┆ 68.0  │\n",
       "│ 5   ┆ 90  ┆ 66  ┆ 78  ┆ … ┆ 84  ┆ 55  ┆ 1014.4  ┆ 78.0  │\n",
       "│ …   ┆ …   ┆ …   ┆ …   ┆ … ┆ …   ┆ …   ┆ …       ┆ …     │\n",
       "│ 26  ┆ 97  ┆ 64  ┆ 81  ┆ … ┆ 107 ┆ 45  ┆ 1014.9  ┆ 80.5  │\n",
       "│ 27  ┆ 91  ┆ 72  ┆ 82  ┆ … ┆ 90  ┆ 47  ┆ 1009.0  ┆ 81.5  │\n",
       "│ 28  ┆ 84  ┆ 68  ┆ 76  ┆ … ┆ 100 ┆ 51  ┆ 1011.0  ┆ 76.0  │\n",
       "│ 29  ┆ 88  ┆ 66  ┆ 77  ┆ … ┆ 84  ┆ 33  ┆ 1020.6  ┆ 77.0  │\n",
       "│ 30  ┆ 90  ┆ 45  ┆ 68  ┆ … ┆ 200 ┆ 41  ┆ 1022.7  ┆ 67.5  │\n",
       "└─────┴─────┴─────┴─────┴───┴─────┴─────┴─────────┴───────┘"
      ]
     },
     "execution_count": 85,
     "metadata": {},
     "output_type": "execute_result"
    }
   ],
   "source": [
    "df_p = df_p.with_columns(((c.MxT + c.MnT)/2).alias(\"avghl\"))\n",
    "df_p"
   ]
  },
  {
   "cell_type": "code",
   "execution_count": null,
   "id": "bd97ba72",
   "metadata": {},
   "outputs": [
    {
     "name": "stdout",
     "output_type": "stream",
     "text": [
      "{'CRLF': 0, 'LF_pure': 0, 'CR_pure': 30, 'cr_only_or_mixed': True, 'excel_sep': False, 'nul': False, 'bom_interior': False, 'guess_delim': ','}\n"
     ]
    },
    {
     "data": {
      "application/vnd.plotly.v1+json": {
       "config": {
        "plotlyServerURL": "https://plot.ly"
       },
       "data": [
        {
         "hovertemplate": "Day=%{x}<br>net=%{y}<extra></extra>",
         "legendgroup": "",
         "marker": {
          "color": "#636efa",
          "pattern": {
           "shape": ""
          }
         },
         "name": "",
         "orientation": "v",
         "showlegend": false,
         "textposition": "auto",
         "type": "bar",
         "x": {
          "bdata": "AQIDBAUGBwgJCgsMDQ4PEBESExQVFhcYGRobHB0e",
          "dtype": "i1"
         },
         "xaxis": "x",
         "y": {
          "bdata": "HRAWEhgUEBU2FCAPCwIJFBgeFBsbGhYNEiETEBYt",
          "dtype": "i1"
         },
         "yaxis": "y"
        }
       ],
       "layout": {
        "barmode": "relative",
        "legend": {
         "tracegroupgap": 0
        },
        "template": {
         "data": {
          "bar": [
           {
            "error_x": {
             "color": "#2a3f5f"
            },
            "error_y": {
             "color": "#2a3f5f"
            },
            "marker": {
             "line": {
              "color": "#E5ECF6",
              "width": 0.5
             },
             "pattern": {
              "fillmode": "overlay",
              "size": 10,
              "solidity": 0.2
             }
            },
            "type": "bar"
           }
          ],
          "barpolar": [
           {
            "marker": {
             "line": {
              "color": "#E5ECF6",
              "width": 0.5
             },
             "pattern": {
              "fillmode": "overlay",
              "size": 10,
              "solidity": 0.2
             }
            },
            "type": "barpolar"
           }
          ],
          "carpet": [
           {
            "aaxis": {
             "endlinecolor": "#2a3f5f",
             "gridcolor": "white",
             "linecolor": "white",
             "minorgridcolor": "white",
             "startlinecolor": "#2a3f5f"
            },
            "baxis": {
             "endlinecolor": "#2a3f5f",
             "gridcolor": "white",
             "linecolor": "white",
             "minorgridcolor": "white",
             "startlinecolor": "#2a3f5f"
            },
            "type": "carpet"
           }
          ],
          "choropleth": [
           {
            "colorbar": {
             "outlinewidth": 0,
             "ticks": ""
            },
            "type": "choropleth"
           }
          ],
          "contour": [
           {
            "colorbar": {
             "outlinewidth": 0,
             "ticks": ""
            },
            "colorscale": [
             [
              0,
              "#0d0887"
             ],
             [
              0.1111111111111111,
              "#46039f"
             ],
             [
              0.2222222222222222,
              "#7201a8"
             ],
             [
              0.3333333333333333,
              "#9c179e"
             ],
             [
              0.4444444444444444,
              "#bd3786"
             ],
             [
              0.5555555555555556,
              "#d8576b"
             ],
             [
              0.6666666666666666,
              "#ed7953"
             ],
             [
              0.7777777777777778,
              "#fb9f3a"
             ],
             [
              0.8888888888888888,
              "#fdca26"
             ],
             [
              1,
              "#f0f921"
             ]
            ],
            "type": "contour"
           }
          ],
          "contourcarpet": [
           {
            "colorbar": {
             "outlinewidth": 0,
             "ticks": ""
            },
            "type": "contourcarpet"
           }
          ],
          "heatmap": [
           {
            "colorbar": {
             "outlinewidth": 0,
             "ticks": ""
            },
            "colorscale": [
             [
              0,
              "#0d0887"
             ],
             [
              0.1111111111111111,
              "#46039f"
             ],
             [
              0.2222222222222222,
              "#7201a8"
             ],
             [
              0.3333333333333333,
              "#9c179e"
             ],
             [
              0.4444444444444444,
              "#bd3786"
             ],
             [
              0.5555555555555556,
              "#d8576b"
             ],
             [
              0.6666666666666666,
              "#ed7953"
             ],
             [
              0.7777777777777778,
              "#fb9f3a"
             ],
             [
              0.8888888888888888,
              "#fdca26"
             ],
             [
              1,
              "#f0f921"
             ]
            ],
            "type": "heatmap"
           }
          ],
          "histogram": [
           {
            "marker": {
             "pattern": {
              "fillmode": "overlay",
              "size": 10,
              "solidity": 0.2
             }
            },
            "type": "histogram"
           }
          ],
          "histogram2d": [
           {
            "colorbar": {
             "outlinewidth": 0,
             "ticks": ""
            },
            "colorscale": [
             [
              0,
              "#0d0887"
             ],
             [
              0.1111111111111111,
              "#46039f"
             ],
             [
              0.2222222222222222,
              "#7201a8"
             ],
             [
              0.3333333333333333,
              "#9c179e"
             ],
             [
              0.4444444444444444,
              "#bd3786"
             ],
             [
              0.5555555555555556,
              "#d8576b"
             ],
             [
              0.6666666666666666,
              "#ed7953"
             ],
             [
              0.7777777777777778,
              "#fb9f3a"
             ],
             [
              0.8888888888888888,
              "#fdca26"
             ],
             [
              1,
              "#f0f921"
             ]
            ],
            "type": "histogram2d"
           }
          ],
          "histogram2dcontour": [
           {
            "colorbar": {
             "outlinewidth": 0,
             "ticks": ""
            },
            "colorscale": [
             [
              0,
              "#0d0887"
             ],
             [
              0.1111111111111111,
              "#46039f"
             ],
             [
              0.2222222222222222,
              "#7201a8"
             ],
             [
              0.3333333333333333,
              "#9c179e"
             ],
             [
              0.4444444444444444,
              "#bd3786"
             ],
             [
              0.5555555555555556,
              "#d8576b"
             ],
             [
              0.6666666666666666,
              "#ed7953"
             ],
             [
              0.7777777777777778,
              "#fb9f3a"
             ],
             [
              0.8888888888888888,
              "#fdca26"
             ],
             [
              1,
              "#f0f921"
             ]
            ],
            "type": "histogram2dcontour"
           }
          ],
          "mesh3d": [
           {
            "colorbar": {
             "outlinewidth": 0,
             "ticks": ""
            },
            "type": "mesh3d"
           }
          ],
          "parcoords": [
           {
            "line": {
             "colorbar": {
              "outlinewidth": 0,
              "ticks": ""
             }
            },
            "type": "parcoords"
           }
          ],
          "pie": [
           {
            "automargin": true,
            "type": "pie"
           }
          ],
          "scatter": [
           {
            "fillpattern": {
             "fillmode": "overlay",
             "size": 10,
             "solidity": 0.2
            },
            "type": "scatter"
           }
          ],
          "scatter3d": [
           {
            "line": {
             "colorbar": {
              "outlinewidth": 0,
              "ticks": ""
             }
            },
            "marker": {
             "colorbar": {
              "outlinewidth": 0,
              "ticks": ""
             }
            },
            "type": "scatter3d"
           }
          ],
          "scattercarpet": [
           {
            "marker": {
             "colorbar": {
              "outlinewidth": 0,
              "ticks": ""
             }
            },
            "type": "scattercarpet"
           }
          ],
          "scattergeo": [
           {
            "marker": {
             "colorbar": {
              "outlinewidth": 0,
              "ticks": ""
             }
            },
            "type": "scattergeo"
           }
          ],
          "scattergl": [
           {
            "marker": {
             "colorbar": {
              "outlinewidth": 0,
              "ticks": ""
             }
            },
            "type": "scattergl"
           }
          ],
          "scattermap": [
           {
            "marker": {
             "colorbar": {
              "outlinewidth": 0,
              "ticks": ""
             }
            },
            "type": "scattermap"
           }
          ],
          "scattermapbox": [
           {
            "marker": {
             "colorbar": {
              "outlinewidth": 0,
              "ticks": ""
             }
            },
            "type": "scattermapbox"
           }
          ],
          "scatterpolar": [
           {
            "marker": {
             "colorbar": {
              "outlinewidth": 0,
              "ticks": ""
             }
            },
            "type": "scatterpolar"
           }
          ],
          "scatterpolargl": [
           {
            "marker": {
             "colorbar": {
              "outlinewidth": 0,
              "ticks": ""
             }
            },
            "type": "scatterpolargl"
           }
          ],
          "scatterternary": [
           {
            "marker": {
             "colorbar": {
              "outlinewidth": 0,
              "ticks": ""
             }
            },
            "type": "scatterternary"
           }
          ],
          "surface": [
           {
            "colorbar": {
             "outlinewidth": 0,
             "ticks": ""
            },
            "colorscale": [
             [
              0,
              "#0d0887"
             ],
             [
              0.1111111111111111,
              "#46039f"
             ],
             [
              0.2222222222222222,
              "#7201a8"
             ],
             [
              0.3333333333333333,
              "#9c179e"
             ],
             [
              0.4444444444444444,
              "#bd3786"
             ],
             [
              0.5555555555555556,
              "#d8576b"
             ],
             [
              0.6666666666666666,
              "#ed7953"
             ],
             [
              0.7777777777777778,
              "#fb9f3a"
             ],
             [
              0.8888888888888888,
              "#fdca26"
             ],
             [
              1,
              "#f0f921"
             ]
            ],
            "type": "surface"
           }
          ],
          "table": [
           {
            "cells": {
             "fill": {
              "color": "#EBF0F8"
             },
             "line": {
              "color": "white"
             }
            },
            "header": {
             "fill": {
              "color": "#C8D4E3"
             },
             "line": {
              "color": "white"
             }
            },
            "type": "table"
           }
          ]
         },
         "layout": {
          "annotationdefaults": {
           "arrowcolor": "#2a3f5f",
           "arrowhead": 0,
           "arrowwidth": 1
          },
          "autotypenumbers": "strict",
          "coloraxis": {
           "colorbar": {
            "outlinewidth": 0,
            "ticks": ""
           }
          },
          "colorscale": {
           "diverging": [
            [
             0,
             "#8e0152"
            ],
            [
             0.1,
             "#c51b7d"
            ],
            [
             0.2,
             "#de77ae"
            ],
            [
             0.3,
             "#f1b6da"
            ],
            [
             0.4,
             "#fde0ef"
            ],
            [
             0.5,
             "#f7f7f7"
            ],
            [
             0.6,
             "#e6f5d0"
            ],
            [
             0.7,
             "#b8e186"
            ],
            [
             0.8,
             "#7fbc41"
            ],
            [
             0.9,
             "#4d9221"
            ],
            [
             1,
             "#276419"
            ]
           ],
           "sequential": [
            [
             0,
             "#0d0887"
            ],
            [
             0.1111111111111111,
             "#46039f"
            ],
            [
             0.2222222222222222,
             "#7201a8"
            ],
            [
             0.3333333333333333,
             "#9c179e"
            ],
            [
             0.4444444444444444,
             "#bd3786"
            ],
            [
             0.5555555555555556,
             "#d8576b"
            ],
            [
             0.6666666666666666,
             "#ed7953"
            ],
            [
             0.7777777777777778,
             "#fb9f3a"
            ],
            [
             0.8888888888888888,
             "#fdca26"
            ],
            [
             1,
             "#f0f921"
            ]
           ],
           "sequentialminus": [
            [
             0,
             "#0d0887"
            ],
            [
             0.1111111111111111,
             "#46039f"
            ],
            [
             0.2222222222222222,
             "#7201a8"
            ],
            [
             0.3333333333333333,
             "#9c179e"
            ],
            [
             0.4444444444444444,
             "#bd3786"
            ],
            [
             0.5555555555555556,
             "#d8576b"
            ],
            [
             0.6666666666666666,
             "#ed7953"
            ],
            [
             0.7777777777777778,
             "#fb9f3a"
            ],
            [
             0.8888888888888888,
             "#fdca26"
            ],
            [
             1,
             "#f0f921"
            ]
           ]
          },
          "colorway": [
           "#636efa",
           "#EF553B",
           "#00cc96",
           "#ab63fa",
           "#FFA15A",
           "#19d3f3",
           "#FF6692",
           "#B6E880",
           "#FF97FF",
           "#FECB52"
          ],
          "font": {
           "color": "#2a3f5f"
          },
          "geo": {
           "bgcolor": "white",
           "lakecolor": "white",
           "landcolor": "#E5ECF6",
           "showlakes": true,
           "showland": true,
           "subunitcolor": "white"
          },
          "hoverlabel": {
           "align": "left"
          },
          "hovermode": "closest",
          "mapbox": {
           "style": "light"
          },
          "paper_bgcolor": "white",
          "plot_bgcolor": "#E5ECF6",
          "polar": {
           "angularaxis": {
            "gridcolor": "white",
            "linecolor": "white",
            "ticks": ""
           },
           "bgcolor": "#E5ECF6",
           "radialaxis": {
            "gridcolor": "white",
            "linecolor": "white",
            "ticks": ""
           }
          },
          "scene": {
           "xaxis": {
            "backgroundcolor": "#E5ECF6",
            "gridcolor": "white",
            "gridwidth": 2,
            "linecolor": "white",
            "showbackground": true,
            "ticks": "",
            "zerolinecolor": "white"
           },
           "yaxis": {
            "backgroundcolor": "#E5ECF6",
            "gridcolor": "white",
            "gridwidth": 2,
            "linecolor": "white",
            "showbackground": true,
            "ticks": "",
            "zerolinecolor": "white"
           },
           "zaxis": {
            "backgroundcolor": "#E5ECF6",
            "gridcolor": "white",
            "gridwidth": 2,
            "linecolor": "white",
            "showbackground": true,
            "ticks": "",
            "zerolinecolor": "white"
           }
          },
          "shapedefaults": {
           "line": {
            "color": "#2a3f5f"
           }
          },
          "ternary": {
           "aaxis": {
            "gridcolor": "white",
            "linecolor": "white",
            "ticks": ""
           },
           "baxis": {
            "gridcolor": "white",
            "linecolor": "white",
            "ticks": ""
           },
           "bgcolor": "#E5ECF6",
           "caxis": {
            "gridcolor": "white",
            "linecolor": "white",
            "ticks": ""
           }
          },
          "title": {
           "x": 0.05
          },
          "xaxis": {
           "automargin": true,
           "gridcolor": "white",
           "linecolor": "white",
           "ticks": "",
           "title": {
            "standoff": 15
           },
           "zerolinecolor": "white",
           "zerolinewidth": 2
          },
          "yaxis": {
           "automargin": true,
           "gridcolor": "white",
           "linecolor": "white",
           "ticks": "",
           "title": {
            "standoff": 15
           },
           "zerolinecolor": "white",
           "zerolinewidth": 2
          }
         }
        },
        "title": {
         "text": "Net"
        },
        "xaxis": {
         "anchor": "y",
         "domain": [
          0,
          1
         ],
         "title": {
          "text": "Day"
         }
        },
        "yaxis": {
         "anchor": "x",
         "domain": [
          0,
          1
         ],
         "title": {
          "text": "net"
         }
        }
       }
      }
     },
     "metadata": {},
     "output_type": "display_data"
    },
    {
     "name": "stdout",
     "output_type": "stream",
     "text": [
      "14\n"
     ]
    }
   ],
   "source": [
    "max_avg_condn = c.avghl == c.avghl.max()\n",
    "day_with_max_avghl = df_p.filter(max_avg_condn).select(c.Day)\n",
    "max_avghl = df_p.filter(max_avg_condn).select(c.avghl)\n",
    "day_with_max_avghl\n",
    "len(df_p)\n",
    "\n",
    "import plotly.express as px\n",
    "\n",
    "def min_net(filename, mxi, mni,loader=None):\n",
    "    df = loader(filename) if loader else pl.read_csv(filename)   # <-- use loader if given\n",
    "    df = df.with_columns((mxi - mni).alias(\"net\"))\n",
    "    first_col = df.columns[0]\n",
    "\n",
    "\n",
    "    data_dict = df.to_dict(as_series=False )\n",
    "\n",
    "    #graph net values\n",
    "    fig = px.bar(data_dict,x=first_col,y='net',title='Net')\n",
    "    fig.show()\n",
    "    min_net_condn = c.net == c.net.min()\n",
    "    result = df.filter(min_net_condn)\n",
    "    result_count = result.height\n",
    "    for i in range(result_count):\n",
    "         print(result.row(i)[df.columns.index(first_col)])\n",
    "\n",
    "\n",
    "MxT = pl.col(\"MxT\")\n",
    "MnT = pl.col(\"MnT\")\n",
    "min_net(\"weather.csv\", MxT, MnT, loader=load_csv_polars_quick)\n"
   ]
  },
  {
   "cell_type": "code",
   "execution_count": 103,
   "id": "ffb6362d",
   "metadata": {},
   "outputs": [
    {
     "name": "stdout",
     "output_type": "stream",
     "text": [
      "{'CRLF': 0, 'LF_pure': 0, 'CR_pure': 20, 'cr_only_or_mixed': True, 'excel_sep': False, 'nul': False, 'bom_interior': False, 'guess_delim': ','}\n"
     ]
    },
    {
     "data": {
      "application/vnd.plotly.v1+json": {
       "config": {
        "plotlyServerURL": "https://plot.ly"
       },
       "data": [
        {
         "hovertemplate": "Team=%{x}<br>net=%{y}<extra></extra>",
         "legendgroup": "",
         "marker": {
          "color": "#636efa",
          "pattern": {
           "shape": ""
          }
         },
         "name": "",
         "orientation": "v",
         "showlegend": false,
         "textposition": "auto",
         "type": "bar",
         "x": [
          "Arsenal",
          "Liverpool",
          "Manchester United",
          "Newcastle",
          "Leeds",
          "Chelsea",
          "West_Ham",
          "Aston_Villa",
          "Tottenham",
          "Blackburn",
          "Southampton",
          "Middlesbrough",
          "Fulham",
          "Charlton",
          "Everton",
          "Bolton",
          "Sunderland",
          "Ipswich",
          "Derby",
          "Leicester"
         ],
         "xaxis": "x",
         "y": {
          "bdata": "KyUqFhAc9//8BPj0+PX07urp4t4=",
          "dtype": "i1"
         },
         "yaxis": "y"
        }
       ],
       "layout": {
        "barmode": "relative",
        "legend": {
         "tracegroupgap": 0
        },
        "template": {
         "data": {
          "bar": [
           {
            "error_x": {
             "color": "#2a3f5f"
            },
            "error_y": {
             "color": "#2a3f5f"
            },
            "marker": {
             "line": {
              "color": "#E5ECF6",
              "width": 0.5
             },
             "pattern": {
              "fillmode": "overlay",
              "size": 10,
              "solidity": 0.2
             }
            },
            "type": "bar"
           }
          ],
          "barpolar": [
           {
            "marker": {
             "line": {
              "color": "#E5ECF6",
              "width": 0.5
             },
             "pattern": {
              "fillmode": "overlay",
              "size": 10,
              "solidity": 0.2
             }
            },
            "type": "barpolar"
           }
          ],
          "carpet": [
           {
            "aaxis": {
             "endlinecolor": "#2a3f5f",
             "gridcolor": "white",
             "linecolor": "white",
             "minorgridcolor": "white",
             "startlinecolor": "#2a3f5f"
            },
            "baxis": {
             "endlinecolor": "#2a3f5f",
             "gridcolor": "white",
             "linecolor": "white",
             "minorgridcolor": "white",
             "startlinecolor": "#2a3f5f"
            },
            "type": "carpet"
           }
          ],
          "choropleth": [
           {
            "colorbar": {
             "outlinewidth": 0,
             "ticks": ""
            },
            "type": "choropleth"
           }
          ],
          "contour": [
           {
            "colorbar": {
             "outlinewidth": 0,
             "ticks": ""
            },
            "colorscale": [
             [
              0,
              "#0d0887"
             ],
             [
              0.1111111111111111,
              "#46039f"
             ],
             [
              0.2222222222222222,
              "#7201a8"
             ],
             [
              0.3333333333333333,
              "#9c179e"
             ],
             [
              0.4444444444444444,
              "#bd3786"
             ],
             [
              0.5555555555555556,
              "#d8576b"
             ],
             [
              0.6666666666666666,
              "#ed7953"
             ],
             [
              0.7777777777777778,
              "#fb9f3a"
             ],
             [
              0.8888888888888888,
              "#fdca26"
             ],
             [
              1,
              "#f0f921"
             ]
            ],
            "type": "contour"
           }
          ],
          "contourcarpet": [
           {
            "colorbar": {
             "outlinewidth": 0,
             "ticks": ""
            },
            "type": "contourcarpet"
           }
          ],
          "heatmap": [
           {
            "colorbar": {
             "outlinewidth": 0,
             "ticks": ""
            },
            "colorscale": [
             [
              0,
              "#0d0887"
             ],
             [
              0.1111111111111111,
              "#46039f"
             ],
             [
              0.2222222222222222,
              "#7201a8"
             ],
             [
              0.3333333333333333,
              "#9c179e"
             ],
             [
              0.4444444444444444,
              "#bd3786"
             ],
             [
              0.5555555555555556,
              "#d8576b"
             ],
             [
              0.6666666666666666,
              "#ed7953"
             ],
             [
              0.7777777777777778,
              "#fb9f3a"
             ],
             [
              0.8888888888888888,
              "#fdca26"
             ],
             [
              1,
              "#f0f921"
             ]
            ],
            "type": "heatmap"
           }
          ],
          "histogram": [
           {
            "marker": {
             "pattern": {
              "fillmode": "overlay",
              "size": 10,
              "solidity": 0.2
             }
            },
            "type": "histogram"
           }
          ],
          "histogram2d": [
           {
            "colorbar": {
             "outlinewidth": 0,
             "ticks": ""
            },
            "colorscale": [
             [
              0,
              "#0d0887"
             ],
             [
              0.1111111111111111,
              "#46039f"
             ],
             [
              0.2222222222222222,
              "#7201a8"
             ],
             [
              0.3333333333333333,
              "#9c179e"
             ],
             [
              0.4444444444444444,
              "#bd3786"
             ],
             [
              0.5555555555555556,
              "#d8576b"
             ],
             [
              0.6666666666666666,
              "#ed7953"
             ],
             [
              0.7777777777777778,
              "#fb9f3a"
             ],
             [
              0.8888888888888888,
              "#fdca26"
             ],
             [
              1,
              "#f0f921"
             ]
            ],
            "type": "histogram2d"
           }
          ],
          "histogram2dcontour": [
           {
            "colorbar": {
             "outlinewidth": 0,
             "ticks": ""
            },
            "colorscale": [
             [
              0,
              "#0d0887"
             ],
             [
              0.1111111111111111,
              "#46039f"
             ],
             [
              0.2222222222222222,
              "#7201a8"
             ],
             [
              0.3333333333333333,
              "#9c179e"
             ],
             [
              0.4444444444444444,
              "#bd3786"
             ],
             [
              0.5555555555555556,
              "#d8576b"
             ],
             [
              0.6666666666666666,
              "#ed7953"
             ],
             [
              0.7777777777777778,
              "#fb9f3a"
             ],
             [
              0.8888888888888888,
              "#fdca26"
             ],
             [
              1,
              "#f0f921"
             ]
            ],
            "type": "histogram2dcontour"
           }
          ],
          "mesh3d": [
           {
            "colorbar": {
             "outlinewidth": 0,
             "ticks": ""
            },
            "type": "mesh3d"
           }
          ],
          "parcoords": [
           {
            "line": {
             "colorbar": {
              "outlinewidth": 0,
              "ticks": ""
             }
            },
            "type": "parcoords"
           }
          ],
          "pie": [
           {
            "automargin": true,
            "type": "pie"
           }
          ],
          "scatter": [
           {
            "fillpattern": {
             "fillmode": "overlay",
             "size": 10,
             "solidity": 0.2
            },
            "type": "scatter"
           }
          ],
          "scatter3d": [
           {
            "line": {
             "colorbar": {
              "outlinewidth": 0,
              "ticks": ""
             }
            },
            "marker": {
             "colorbar": {
              "outlinewidth": 0,
              "ticks": ""
             }
            },
            "type": "scatter3d"
           }
          ],
          "scattercarpet": [
           {
            "marker": {
             "colorbar": {
              "outlinewidth": 0,
              "ticks": ""
             }
            },
            "type": "scattercarpet"
           }
          ],
          "scattergeo": [
           {
            "marker": {
             "colorbar": {
              "outlinewidth": 0,
              "ticks": ""
             }
            },
            "type": "scattergeo"
           }
          ],
          "scattergl": [
           {
            "marker": {
             "colorbar": {
              "outlinewidth": 0,
              "ticks": ""
             }
            },
            "type": "scattergl"
           }
          ],
          "scattermap": [
           {
            "marker": {
             "colorbar": {
              "outlinewidth": 0,
              "ticks": ""
             }
            },
            "type": "scattermap"
           }
          ],
          "scattermapbox": [
           {
            "marker": {
             "colorbar": {
              "outlinewidth": 0,
              "ticks": ""
             }
            },
            "type": "scattermapbox"
           }
          ],
          "scatterpolar": [
           {
            "marker": {
             "colorbar": {
              "outlinewidth": 0,
              "ticks": ""
             }
            },
            "type": "scatterpolar"
           }
          ],
          "scatterpolargl": [
           {
            "marker": {
             "colorbar": {
              "outlinewidth": 0,
              "ticks": ""
             }
            },
            "type": "scatterpolargl"
           }
          ],
          "scatterternary": [
           {
            "marker": {
             "colorbar": {
              "outlinewidth": 0,
              "ticks": ""
             }
            },
            "type": "scatterternary"
           }
          ],
          "surface": [
           {
            "colorbar": {
             "outlinewidth": 0,
             "ticks": ""
            },
            "colorscale": [
             [
              0,
              "#0d0887"
             ],
             [
              0.1111111111111111,
              "#46039f"
             ],
             [
              0.2222222222222222,
              "#7201a8"
             ],
             [
              0.3333333333333333,
              "#9c179e"
             ],
             [
              0.4444444444444444,
              "#bd3786"
             ],
             [
              0.5555555555555556,
              "#d8576b"
             ],
             [
              0.6666666666666666,
              "#ed7953"
             ],
             [
              0.7777777777777778,
              "#fb9f3a"
             ],
             [
              0.8888888888888888,
              "#fdca26"
             ],
             [
              1,
              "#f0f921"
             ]
            ],
            "type": "surface"
           }
          ],
          "table": [
           {
            "cells": {
             "fill": {
              "color": "#EBF0F8"
             },
             "line": {
              "color": "white"
             }
            },
            "header": {
             "fill": {
              "color": "#C8D4E3"
             },
             "line": {
              "color": "white"
             }
            },
            "type": "table"
           }
          ]
         },
         "layout": {
          "annotationdefaults": {
           "arrowcolor": "#2a3f5f",
           "arrowhead": 0,
           "arrowwidth": 1
          },
          "autotypenumbers": "strict",
          "coloraxis": {
           "colorbar": {
            "outlinewidth": 0,
            "ticks": ""
           }
          },
          "colorscale": {
           "diverging": [
            [
             0,
             "#8e0152"
            ],
            [
             0.1,
             "#c51b7d"
            ],
            [
             0.2,
             "#de77ae"
            ],
            [
             0.3,
             "#f1b6da"
            ],
            [
             0.4,
             "#fde0ef"
            ],
            [
             0.5,
             "#f7f7f7"
            ],
            [
             0.6,
             "#e6f5d0"
            ],
            [
             0.7,
             "#b8e186"
            ],
            [
             0.8,
             "#7fbc41"
            ],
            [
             0.9,
             "#4d9221"
            ],
            [
             1,
             "#276419"
            ]
           ],
           "sequential": [
            [
             0,
             "#0d0887"
            ],
            [
             0.1111111111111111,
             "#46039f"
            ],
            [
             0.2222222222222222,
             "#7201a8"
            ],
            [
             0.3333333333333333,
             "#9c179e"
            ],
            [
             0.4444444444444444,
             "#bd3786"
            ],
            [
             0.5555555555555556,
             "#d8576b"
            ],
            [
             0.6666666666666666,
             "#ed7953"
            ],
            [
             0.7777777777777778,
             "#fb9f3a"
            ],
            [
             0.8888888888888888,
             "#fdca26"
            ],
            [
             1,
             "#f0f921"
            ]
           ],
           "sequentialminus": [
            [
             0,
             "#0d0887"
            ],
            [
             0.1111111111111111,
             "#46039f"
            ],
            [
             0.2222222222222222,
             "#7201a8"
            ],
            [
             0.3333333333333333,
             "#9c179e"
            ],
            [
             0.4444444444444444,
             "#bd3786"
            ],
            [
             0.5555555555555556,
             "#d8576b"
            ],
            [
             0.6666666666666666,
             "#ed7953"
            ],
            [
             0.7777777777777778,
             "#fb9f3a"
            ],
            [
             0.8888888888888888,
             "#fdca26"
            ],
            [
             1,
             "#f0f921"
            ]
           ]
          },
          "colorway": [
           "#636efa",
           "#EF553B",
           "#00cc96",
           "#ab63fa",
           "#FFA15A",
           "#19d3f3",
           "#FF6692",
           "#B6E880",
           "#FF97FF",
           "#FECB52"
          ],
          "font": {
           "color": "#2a3f5f"
          },
          "geo": {
           "bgcolor": "white",
           "lakecolor": "white",
           "landcolor": "#E5ECF6",
           "showlakes": true,
           "showland": true,
           "subunitcolor": "white"
          },
          "hoverlabel": {
           "align": "left"
          },
          "hovermode": "closest",
          "mapbox": {
           "style": "light"
          },
          "paper_bgcolor": "white",
          "plot_bgcolor": "#E5ECF6",
          "polar": {
           "angularaxis": {
            "gridcolor": "white",
            "linecolor": "white",
            "ticks": ""
           },
           "bgcolor": "#E5ECF6",
           "radialaxis": {
            "gridcolor": "white",
            "linecolor": "white",
            "ticks": ""
           }
          },
          "scene": {
           "xaxis": {
            "backgroundcolor": "#E5ECF6",
            "gridcolor": "white",
            "gridwidth": 2,
            "linecolor": "white",
            "showbackground": true,
            "ticks": "",
            "zerolinecolor": "white"
           },
           "yaxis": {
            "backgroundcolor": "#E5ECF6",
            "gridcolor": "white",
            "gridwidth": 2,
            "linecolor": "white",
            "showbackground": true,
            "ticks": "",
            "zerolinecolor": "white"
           },
           "zaxis": {
            "backgroundcolor": "#E5ECF6",
            "gridcolor": "white",
            "gridwidth": 2,
            "linecolor": "white",
            "showbackground": true,
            "ticks": "",
            "zerolinecolor": "white"
           }
          },
          "shapedefaults": {
           "line": {
            "color": "#2a3f5f"
           }
          },
          "ternary": {
           "aaxis": {
            "gridcolor": "white",
            "linecolor": "white",
            "ticks": ""
           },
           "baxis": {
            "gridcolor": "white",
            "linecolor": "white",
            "ticks": ""
           },
           "bgcolor": "#E5ECF6",
           "caxis": {
            "gridcolor": "white",
            "linecolor": "white",
            "ticks": ""
           }
          },
          "title": {
           "x": 0.05
          },
          "xaxis": {
           "automargin": true,
           "gridcolor": "white",
           "linecolor": "white",
           "ticks": "",
           "title": {
            "standoff": 15
           },
           "zerolinecolor": "white",
           "zerolinewidth": 2
          },
          "yaxis": {
           "automargin": true,
           "gridcolor": "white",
           "linecolor": "white",
           "ticks": "",
           "title": {
            "standoff": 15
           },
           "zerolinecolor": "white",
           "zerolinewidth": 2
          }
         }
        },
        "title": {
         "text": "Net"
        },
        "xaxis": {
         "anchor": "y",
         "domain": [
          0,
          1
         ],
         "title": {
          "text": "Team"
         }
        },
        "yaxis": {
         "anchor": "x",
         "domain": [
          0,
          1
         ],
         "title": {
          "text": "net"
         }
        }
       }
      }
     },
     "metadata": {},
     "output_type": "display_data"
    },
    {
     "name": "stdout",
     "output_type": "stream",
     "text": [
      "Leicester\n"
     ]
    }
   ],
   "source": [
    "\n",
    "goals = pl.col(\"Goals\")\n",
    "goals_allowed = pl.col(\"Goals Allowed\")\n",
    "min_net(\"football.csv\",goals, goals_allowed, loader=load_csv_polars_quick)"
   ]
  },
  {
   "cell_type": "code",
   "execution_count": null,
   "id": "266634bb",
   "metadata": {},
   "outputs": [
    {
     "name": "stdout",
     "output_type": "stream",
     "text": [
      "day: 24, avg: 83.5\n",
      "team: Aston_Villa, diff: 1\n"
     ]
    }
   ],
   "source": [
    "#csv version\n",
    "\n",
    "def team_min_goal_diff(filename,\n",
    "                       team_col=\"Team\",\n",
    "                       for_col=\"Goals For\",       # use \"Goals\" if your file has \"Goals\" + \"Goals Allowed\"\n",
    "                       against_col=\"Goals Against\"):\n",
    "    with open(filename, newline=\"\") as f:\n",
    "        rows = csv.DictReader(f)\n",
    "        # generator expression: (team, |for - against|)\n",
    "        pairs = (\n",
    "            (r[team_col], abs(int(r[for_col]) - int(r[against_col])))\n",
    "            for r in rows\n",
    "        )\n",
    "        team, diff = min(pairs, key=lambda t: t[1])\n",
    "    return team, diff\n",
    "\n",
    "\n",
    "def day_max_avg_temp(filename, day_col=\"Day\", hi_col=\"MxT\", lo_col=\"MnT\"):\n",
    "    def clean_int(s: str) -> int:\n",
    "        # keep digits and an optional leading minus\n",
    "        return int(re.sub(r\"(?<!^)[^\\d]|(?!^-)[^\\d-]\", \"\", s))\n",
    "        # simpler (often enough): int(re.sub(r\"[^-0-9]\", \"\", s))\n",
    "\n",
    "    with open(filename, newline=\"\") as f:\n",
    "        rows = csv.DictReader(f)\n",
    "        # generator: (day, (hi+lo)/2)\n",
    "        pairs = (\n",
    "            (int(r[day_col]), (clean_int(r[hi_col]) + clean_int(r[lo_col])) / 2)\n",
    "            for r in rows\n",
    "        )\n",
    "        day, avg = max(pairs, key=lambda t: t[1])\n",
    "    return day, avg\n",
    "\n",
    "day, avg = day_max_avg_temp(\"weather.csv\", hi_col=\"MxT\", lo_col=\"MnT\")\n",
    "print(f'day: {day}, avg: {avg}')\n",
    "\n",
    "team, diff = team_min_goal_diff(\"football.csv\", for_col=\"Goals\", against_col=\"Goals Allowed\")\n",
    "print(f'team: {team}, diff: {diff}')\n"
   ]
  },
  {
   "cell_type": "code",
   "execution_count": null,
   "id": "71b6468f",
   "metadata": {},
   "outputs": [],
   "source": [
    "import polars as pl\n",
    "from polars import col as c\n",
    "\n",
    "def min_goal_diff_polars(filename: str, loader=None):\n",
    "    \"\"\"football.csv with Polars (lazy). Returns (team, diff).\"\"\"\n",
    "    lf = pl.scan_csv(filename) if loader is None else pl.from_pandas(loader(filename).to_pandas()).lazy()\n",
    "    out = (\n",
    "        lf.with_columns((c(\"Goals For\") - c(\"Goals Against\")).abs().alias(\"diff\"))\n",
    "          .select(c.Team, c.diff)\n",
    "          .sort(c.diff)\n",
    "          .limit(1)\n",
    "          .collect()  # engine=\"gpu\" optional if you have it\n",
    "    )\n",
    "    return out[\"Team\"].item(), out[\"diff\"].item()\n",
    "\n",
    "def max_avg_temp_polars(filename: str, hi=\"MxT\", lo=\"MnT\", loader=None):\n",
    "    \"\"\"weather.csv with Polars (lazy). Returns (day, avg).\"\"\"\n",
    "    lf = pl.scan_csv(filename) if loader is None else pl.from_pandas(loader(filename).to_pandas()).lazy()\n",
    "    out = (\n",
    "        lf.with_columns(((c(hi) + c(lo)) / 2).alias(\"avghl\"))\n",
    "          .select(c.Day, c.avghl)\n",
    "          .sort(c.avghl, descending=True)\n",
    "          .limit(1)\n",
    "          .collect()\n",
    "    )\n",
    "    return int(out[\"Day\"].item()), out[\"avghl\"].item()\n"
   ]
  }
 ],
 "metadata": {
  "kernelspec": {
   "display_name": "Python 3 (ipykernel)",
   "language": "python",
   "name": "python3"
  },
  "language_info": {
   "codemirror_mode": {
    "name": "ipython",
    "version": 3
   },
   "file_extension": ".py",
   "mimetype": "text/x-python",
   "name": "python",
   "nbconvert_exporter": "python",
   "pygments_lexer": "ipython3",
   "version": "3.10.17"
  }
 },
 "nbformat": 4,
 "nbformat_minor": 5
}
